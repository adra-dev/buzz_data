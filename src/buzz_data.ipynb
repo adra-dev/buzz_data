{
 "cells": [
  {
   "cell_type": "code",
   "execution_count": 2,
   "metadata": {},
   "outputs": [],
   "source": [
    "import polars as pl \n",
    "import altair as alt"
   ]
  },
  {
   "cell_type": "code",
   "execution_count": 5,
   "metadata": {},
   "outputs": [
    {
     "data": {
      "text/html": [
       "<div><style>\n",
       ".dataframe > thead > tr,\n",
       ".dataframe > tbody > tr {\n",
       "  text-align: right;\n",
       "  white-space: pre-wrap;\n",
       "}\n",
       "</style>\n",
       "<small>shape: (1_453, 17)</small><table border=\"1\" class=\"dataframe\"><thead><tr><th>state</th><th>state_code</th><th>num_colonies</th><th>max_colonies</th><th>lost_colonies</th><th>percent_lost</th><th>added_colonies</th><th>renovated_colonies</th><th>percent_renovated</th><th>quarter</th><th>year</th><th>varroa_mites</th><th>other_pests_and_parasites</th><th>diseases</th><th>pesticides</th><th>other</th><th>unknown</th></tr><tr><td>str</td><td>str</td><td>i64</td><td>i64</td><td>i64</td><td>i64</td><td>i64</td><td>i64</td><td>i64</td><td>i64</td><td>i64</td><td>f64</td><td>f64</td><td>f64</td><td>f64</td><td>f64</td><td>f64</td></tr></thead><tbody><tr><td>&quot;Alabama&quot;</td><td>&quot;AL&quot;</td><td>7000</td><td>7000</td><td>1800</td><td>26</td><td>2800</td><td>250</td><td>4</td><td>1</td><td>2015</td><td>10.0</td><td>5.4</td><td>0.0</td><td>2.2</td><td>9.1</td><td>9.4</td></tr><tr><td>&quot;Arizona&quot;</td><td>&quot;AZ&quot;</td><td>35000</td><td>35000</td><td>4600</td><td>13</td><td>3400</td><td>2100</td><td>6</td><td>1</td><td>2015</td><td>26.9</td><td>20.5</td><td>0.1</td><td>0.0</td><td>1.8</td><td>3.1</td></tr><tr><td>&quot;Arkansas&quot;</td><td>&quot;AR&quot;</td><td>13000</td><td>14000</td><td>1500</td><td>11</td><td>1200</td><td>90</td><td>1</td><td>1</td><td>2015</td><td>17.6</td><td>11.4</td><td>1.5</td><td>3.4</td><td>1.0</td><td>1.0</td></tr><tr><td>&quot;California&quot;</td><td>&quot;CA&quot;</td><td>1440000</td><td>1690000</td><td>255000</td><td>15</td><td>250000</td><td>124000</td><td>7</td><td>1</td><td>2015</td><td>24.7</td><td>7.2</td><td>3.0</td><td>7.5</td><td>6.5</td><td>2.8</td></tr><tr><td>&quot;Colorado&quot;</td><td>&quot;CO&quot;</td><td>3500</td><td>12500</td><td>1500</td><td>12</td><td>200</td><td>140</td><td>1</td><td>1</td><td>2015</td><td>14.6</td><td>0.9</td><td>1.8</td><td>0.6</td><td>2.6</td><td>5.9</td></tr><tr><td>&quot;Connecticut&quot;</td><td>&quot;CT&quot;</td><td>3900</td><td>3900</td><td>870</td><td>22</td><td>290</td><td>0</td><td>0</td><td>1</td><td>2015</td><td>2.5</td><td>1.4</td><td>0.0</td><td>0.0</td><td>21.2</td><td>2.4</td></tr><tr><td>&quot;Florida&quot;</td><td>&quot;FL&quot;</td><td>305000</td><td>315000</td><td>42000</td><td>13</td><td>54000</td><td>25000</td><td>8</td><td>1</td><td>2015</td><td>22.3</td><td>13.5</td><td>0.8</td><td>8.9</td><td>5.1</td><td>4.4</td></tr><tr><td>&quot;Georgia&quot;</td><td>&quot;GA&quot;</td><td>104000</td><td>105000</td><td>14500</td><td>14</td><td>47000</td><td>9500</td><td>9</td><td>1</td><td>2015</td><td>6.2</td><td>4.9</td><td>3.3</td><td>2.6</td><td>4.8</td><td>10.5</td></tr><tr><td>&quot;Hawaii&quot;</td><td>&quot;HI&quot;</td><td>10500</td><td>10500</td><td>380</td><td>4</td><td>3400</td><td>760</td><td>7</td><td>1</td><td>2015</td><td>38.8</td><td>37.7</td><td>1.6</td><td>0.0</td><td>2.0</td><td>0.0</td></tr><tr><td>&quot;Idaho&quot;</td><td>&quot;ID&quot;</td><td>81000</td><td>88000</td><td>3700</td><td>4</td><td>2600</td><td>8000</td><td>9</td><td>1</td><td>2015</td><td>39.8</td><td>6.7</td><td>12.5</td><td>4.8</td><td>8.9</td><td>4.9</td></tr><tr><td>&quot;Illinois&quot;</td><td>&quot;IL&quot;</td><td>6000</td><td>10500</td><td>4200</td><td>40</td><td>2300</td><td>390</td><td>4</td><td>1</td><td>2015</td><td>12.3</td><td>6.9</td><td>0.7</td><td>0.4</td><td>12.6</td><td>11.6</td></tr><tr><td>&quot;Indiana&quot;</td><td>&quot;IN&quot;</td><td>9000</td><td>9500</td><td>2100</td><td>22</td><td>490</td><td>120</td><td>1</td><td>1</td><td>2015</td><td>20.7</td><td>0.3</td><td>0.2</td><td>0.3</td><td>22.3</td><td>11.7</td></tr><tr><td>&hellip;</td><td>&hellip;</td><td>&hellip;</td><td>&hellip;</td><td>&hellip;</td><td>&hellip;</td><td>&hellip;</td><td>&hellip;</td><td>&hellip;</td><td>&hellip;</td><td>&hellip;</td><td>&hellip;</td><td>&hellip;</td><td>&hellip;</td><td>&hellip;</td><td>&hellip;</td><td>&hellip;</td></tr><tr><td>&quot;South Dakota&quot;</td><td>&quot;SD&quot;</td><td>175000</td><td>175000</td><td>27000</td><td>15</td><td>20</td><td>10</td><td>0</td><td>4</td><td>2022</td><td>67.1</td><td>30.7</td><td>5.0</td><td>11.4</td><td>9.4</td><td>0.0</td></tr><tr><td>&quot;Tennessee&quot;</td><td>&quot;TN&quot;</td><td>8500</td><td>10500</td><td>1400</td><td>13</td><td>1700</td><td>620</td><td>6</td><td>4</td><td>2022</td><td>24.4</td><td>7.6</td><td>2.5</td><td>0.7</td><td>1.0</td><td>3.1</td></tr><tr><td>&quot;Texas&quot;</td><td>&quot;TX&quot;</td><td>210000</td><td>260000</td><td>7500</td><td>3</td><td>720</td><td>2200</td><td>1</td><td>4</td><td>2022</td><td>14.0</td><td>12.8</td><td>4.3</td><td>4.3</td><td>3.8</td><td>3.0</td></tr><tr><td>&quot;Utah&quot;</td><td>&quot;UT&quot;</td><td>25000</td><td>26000</td><td>1800</td><td>7</td><td>990</td><td>250</td><td>1</td><td>4</td><td>2022</td><td>9.2</td><td>3.2</td><td>2.1</td><td>0.0</td><td>0.0</td><td>0.0</td></tr><tr><td>&quot;Vermont&quot;</td><td>&quot;VT&quot;</td><td>10000</td><td>10000</td><td>370</td><td>4</td><td>400</td><td>0</td><td>0</td><td>4</td><td>2022</td><td>12.0</td><td>3.2</td><td>1.1</td><td>0.6</td><td>0.0</td><td>0.0</td></tr><tr><td>&quot;Virginia&quot;</td><td>&quot;VA&quot;</td><td>9000</td><td>10500</td><td>1300</td><td>12</td><td>300</td><td>750</td><td>7</td><td>4</td><td>2022</td><td>43.3</td><td>20.9</td><td>0.0</td><td>0.0</td><td>6.4</td><td>3.9</td></tr><tr><td>&quot;Washington&quot;</td><td>&quot;WA&quot;</td><td>84000</td><td>89000</td><td>7500</td><td>8</td><td>540</td><td>220</td><td>0</td><td>4</td><td>2022</td><td>34.0</td><td>6.4</td><td>0.0</td><td>0.0</td><td>4.2</td><td>8.2</td></tr><tr><td>&quot;West Virginia&quot;</td><td>&quot;WV&quot;</td><td>7500</td><td>8000</td><td>1100</td><td>14</td><td>0</td><td>220</td><td>3</td><td>4</td><td>2022</td><td>33.4</td><td>3.8</td><td>0.8</td><td>0.0</td><td>6.4</td><td>0.5</td></tr><tr><td>&quot;Wisconsin&quot;</td><td>&quot;WI&quot;</td><td>26000</td><td>47000</td><td>3500</td><td>7</td><td>140</td><td>380</td><td>1</td><td>4</td><td>2022</td><td>23.2</td><td>21.4</td><td>19.4</td><td>17.5</td><td>9.9</td><td>11.7</td></tr><tr><td>&quot;Wyoming&quot;</td><td>&quot;WY&quot;</td><td>19500</td><td>21000</td><td>3200</td><td>15</td><td>640</td><td>0</td><td>0</td><td>4</td><td>2022</td><td>22.9</td><td>5.9</td><td>4.2</td><td>0.0</td><td>0.0</td><td>7.4</td></tr><tr><td>&quot;Other&quot;</td><td>&quot;OT&quot;</td><td>30030</td><td>30030</td><td>480</td><td>2</td><td>1190</td><td>130</td><td>0</td><td>4</td><td>2022</td><td>22.4</td><td>18.5</td><td>0.0</td><td>0.0</td><td>0.0</td><td>0.7</td></tr><tr><td>&quot;United States&quot;</td><td>&quot;US&quot;</td><td>2888130</td><td>3595030</td><td>353910</td><td>12</td><td>170280</td><td>147950</td><td>5</td><td>4</td><td>2022</td><td>44.3</td><td>19.8</td><td>10.3</td><td>12.4</td><td>14.2</td><td>4.7</td></tr></tbody></table></div>"
      ],
      "text/plain": [
       "shape: (1_453, 17)\n",
       "┌─────────────┬────────────┬────────────┬────────────┬───┬──────────┬────────────┬───────┬─────────┐\n",
       "│ state       ┆ state_code ┆ num_coloni ┆ max_coloni ┆ … ┆ diseases ┆ pesticides ┆ other ┆ unknown │\n",
       "│ ---         ┆ ---        ┆ es         ┆ es         ┆   ┆ ---      ┆ ---        ┆ ---   ┆ ---     │\n",
       "│ str         ┆ str        ┆ ---        ┆ ---        ┆   ┆ f64      ┆ f64        ┆ f64   ┆ f64     │\n",
       "│             ┆            ┆ i64        ┆ i64        ┆   ┆          ┆            ┆       ┆         │\n",
       "╞═════════════╪════════════╪════════════╪════════════╪═══╪══════════╪════════════╪═══════╪═════════╡\n",
       "│ Alabama     ┆ AL         ┆ 7000       ┆ 7000       ┆ … ┆ 0.0      ┆ 2.2        ┆ 9.1   ┆ 9.4     │\n",
       "│ Arizona     ┆ AZ         ┆ 35000      ┆ 35000      ┆ … ┆ 0.1      ┆ 0.0        ┆ 1.8   ┆ 3.1     │\n",
       "│ Arkansas    ┆ AR         ┆ 13000      ┆ 14000      ┆ … ┆ 1.5      ┆ 3.4        ┆ 1.0   ┆ 1.0     │\n",
       "│ California  ┆ CA         ┆ 1440000    ┆ 1690000    ┆ … ┆ 3.0      ┆ 7.5        ┆ 6.5   ┆ 2.8     │\n",
       "│ …           ┆ …          ┆ …          ┆ …          ┆ … ┆ …        ┆ …          ┆ …     ┆ …       │\n",
       "│ Wisconsin   ┆ WI         ┆ 26000      ┆ 47000      ┆ … ┆ 19.4     ┆ 17.5       ┆ 9.9   ┆ 11.7    │\n",
       "│ Wyoming     ┆ WY         ┆ 19500      ┆ 21000      ┆ … ┆ 4.2      ┆ 0.0        ┆ 0.0   ┆ 7.4     │\n",
       "│ Other       ┆ OT         ┆ 30030      ┆ 30030      ┆ … ┆ 0.0      ┆ 0.0        ┆ 0.0   ┆ 0.7     │\n",
       "│ United      ┆ US         ┆ 2888130    ┆ 3595030    ┆ … ┆ 10.3     ┆ 12.4       ┆ 14.2  ┆ 4.7     │\n",
       "│ States      ┆            ┆            ┆            ┆   ┆          ┆            ┆       ┆         │\n",
       "└─────────────┴────────────┴────────────┴────────────┴───┴──────────┴────────────┴───────┴─────────┘"
      ]
     },
     "execution_count": 5,
     "metadata": {},
     "output_type": "execute_result"
    }
   ],
   "source": [
    "pl.read_csv('input\\save_the_bees.csv', )"
   ]
  },
  {
   "cell_type": "code",
   "execution_count": null,
   "metadata": {},
   "outputs": [],
   "source": []
  }
 ],
 "metadata": {
  "kernelspec": {
   "display_name": "venv",
   "language": "python",
   "name": "python3"
  },
  "language_info": {
   "codemirror_mode": {
    "name": "ipython",
    "version": 3
   },
   "file_extension": ".py",
   "mimetype": "text/x-python",
   "name": "python",
   "nbconvert_exporter": "python",
   "pygments_lexer": "ipython3",
   "version": "3.11.0"
  }
 },
 "nbformat": 4,
 "nbformat_minor": 2
}
