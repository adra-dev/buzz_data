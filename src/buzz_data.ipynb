{
 "cells": [
  {
   "cell_type": "markdown",
   "metadata": {},
   "source": [
    "# Buzz_Data\n",
    "Bees are some of the most prolific pollinators, and the world needs them. However, international honey bee populations have been decreasing at alarming rates. Climate change, parasites, and diseases have all contributed to the loss of bees.\n",
    "\n",
    "In this project I will follow the **CRISP-DM model**\n",
    "\n",
    "The CRoss Industry Standard Process for Data Mining (CRISP-DM) is a process model that serves as the base for a data science process. It has six sequential phases:\n",
    "\n",
    "- Business understanding – What does the business need?\n",
    "- Data understanding – What data do we have / need? Is it clean?\n",
    "- Data preparation – How do we organize the data for modeling?\n",
    "- Modeling – What modeling techniques should we apply?\n",
    "- Evaluation – Which model best meets the business objectives?\n",
    "- Deployment – How do stakeholders access the results?"
   ]
  },
  {
   "cell_type": "markdown",
   "metadata": {},
   "source": [
    "## Business understanding – What does the business need?\n",
    "\n",
    "The USDA need data scientist for a machine Learning project to create a bee population prediction system.\n",
    "\n",
    "### Content\n",
    "The data consists of data from honey bees colonies in the United States from 2015 to 2022 is available. These data were collected by the USDA and curated into a manageable dataset for EDA and predictions.\n",
    "\n",
    "### Feature Description:\n",
    "\n",
    "state: state within the USA. Note, other is a collection of states for privacy reasons. And the United States state is the average across all states.\n",
    "\n",
    "num_colonies: number of honey bee colonies\n",
    "\n",
    "max_colonies: max number of honey bee colonies for that quarter\n",
    "\n",
    "lost_colonies: number of colonies that were lost during that quarter\n",
    "\n",
    "percent_lost: percentage of honey bee colonies lost during that quarter\n",
    "\n",
    "renovated_colonies: colonies that were 'requeened' or received new bees\n",
    "\n",
    "percent_renovated: percentage of honey bee colonies that were renovated\n",
    "\n",
    "quarter: Q1 is Jan to March, Q2 is April to June, Q3 is July to September, and Q4 is October to December\n",
    "\n",
    "year: year between 2015 and 2022\n",
    "\n",
    "varroa_mites: Percentage of colonies affected by a species of mite that affects honey bee populations\n",
    "\n",
    "other_pests_and_parasites: Percentage of colonies affected by a collection of other harmful critters\n",
    "\n",
    "diseases: Percentage of colonies affected by certain diseases\n",
    "\n",
    "pesticides: Percentage of colonies affected by the use of certain pesticides\n",
    "\n",
    "other: Percentage of colonies affected by an unlisted cause\n",
    "\n",
    "unknown: Percentage of colonies affected by an unknown cause"
   ]
  },
  {
   "cell_type": "code",
   "execution_count": 1,
   "metadata": {},
   "outputs": [],
   "source": [
    "import polars as pl \n",
    "import altair as alt"
   ]
  },
  {
   "cell_type": "code",
   "execution_count": 28,
   "metadata": {},
   "outputs": [
    {
     "data": {
      "text/plain": [
       "DataTransformerRegistry.enable('default')"
      ]
     },
     "execution_count": 28,
     "metadata": {},
     "output_type": "execute_result"
    }
   ],
   "source": [
    "alt.data_transformers.disable_max_rows()"
   ]
  },
  {
   "cell_type": "code",
   "execution_count": 2,
   "metadata": {},
   "outputs": [
    {
     "data": {
      "text/html": [
       "<div><style>\n",
       ".dataframe > thead > tr,\n",
       ".dataframe > tbody > tr {\n",
       "  text-align: right;\n",
       "  white-space: pre-wrap;\n",
       "}\n",
       "</style>\n",
       "<small>shape: (10, 17)</small><table border=\"1\" class=\"dataframe\"><thead><tr><th>state</th><th>state_code</th><th>num_colonies</th><th>max_colonies</th><th>lost_colonies</th><th>percent_lost</th><th>added_colonies</th><th>renovated_colonies</th><th>percent_renovated</th><th>quarter</th><th>year</th><th>varroa_mites</th><th>other_pests_and_parasites</th><th>diseases</th><th>pesticides</th><th>other</th><th>unknown</th></tr><tr><td>str</td><td>str</td><td>i64</td><td>i64</td><td>i64</td><td>i64</td><td>i64</td><td>i64</td><td>i64</td><td>i64</td><td>i64</td><td>f64</td><td>f64</td><td>f64</td><td>f64</td><td>f64</td><td>f64</td></tr></thead><tbody><tr><td>&quot;Pennsylvania&quot;</td><td>&quot;PA&quot;</td><td>28000</td><td>30000</td><td>1600</td><td>5</td><td>1600</td><td>1200</td><td>4</td><td>3</td><td>2022</td><td>25.8</td><td>4.6</td><td>0.6</td><td>1.7</td><td>3.7</td><td>0.8</td></tr><tr><td>&quot;Kentucky&quot;</td><td>&quot;KY&quot;</td><td>10000</td><td>10000</td><td>1300</td><td>13</td><td>170</td><td>550</td><td>6</td><td>3</td><td>2015</td><td>40.4</td><td>11.3</td><td>1.2</td><td>6.5</td><td>9.0</td><td>2.0</td></tr><tr><td>&quot;Michigan&quot;</td><td>&quot;MI&quot;</td><td>98000</td><td>98000</td><td>15500</td><td>16</td><td>8000</td><td>5500</td><td>6</td><td>3</td><td>2022</td><td>25.4</td><td>2.8</td><td>2.1</td><td>4.6</td><td>3.5</td><td>1.7</td></tr><tr><td>&quot;Arizona&quot;</td><td>&quot;AZ&quot;</td><td>26000</td><td>30000</td><td>2000</td><td>7</td><td>5500</td><td>3800</td><td>13</td><td>3</td><td>2019</td><td>29.0</td><td>9.9</td><td>2.7</td><td>11.4</td><td>13.2</td><td>0.6</td></tr><tr><td>&quot;Kentucky&quot;</td><td>&quot;KY&quot;</td><td>6500</td><td>7000</td><td>840</td><td>12</td><td>300</td><td>660</td><td>9</td><td>3</td><td>2018</td><td>47.1</td><td>26.5</td><td>1.6</td><td>1.5</td><td>4.5</td><td>7.6</td></tr><tr><td>&quot;North Carolina…</td><td>&quot;NC&quot;</td><td>16000</td><td>23000</td><td>2500</td><td>11</td><td>3700</td><td>1200</td><td>5</td><td>1</td><td>2017</td><td>34.7</td><td>17.4</td><td>0.2</td><td>1.5</td><td>7.2</td><td>3.9</td></tr><tr><td>&quot;South Dakota&quot;</td><td>&quot;SD&quot;</td><td>28000</td><td>34000</td><td>450</td><td>1</td><td>0</td><td>0</td><td>0</td><td>1</td><td>2021</td><td>8.6</td><td>0.0</td><td>0.0</td><td>0.0</td><td>0.0</td><td>0.8</td></tr><tr><td>&quot;Montana&quot;</td><td>&quot;MT&quot;</td><td>103000</td><td>114000</td><td>6000</td><td>5</td><td>870</td><td>7500</td><td>7</td><td>3</td><td>2021</td><td>19.5</td><td>1.5</td><td>1.2</td><td>0.0</td><td>14.8</td><td>0.5</td></tr><tr><td>&quot;Maryland&quot;</td><td>&quot;MD&quot;</td><td>7000</td><td>7000</td><td>1900</td><td>27</td><td>1900</td><td>30</td><td>0</td><td>1</td><td>2020</td><td>19.9</td><td>1.5</td><td>0.0</td><td>0.0</td><td>8.5</td><td>2.4</td></tr><tr><td>&quot;New York&quot;</td><td>&quot;NY&quot;</td><td>44000</td><td>44000</td><td>5500</td><td>13</td><td>370</td><td>730</td><td>2</td><td>1</td><td>2022</td><td>16.6</td><td>4.1</td><td>0.0</td><td>3.1</td><td>7.7</td><td>6.6</td></tr></tbody></table></div>"
      ],
      "text/plain": [
       "shape: (10, 17)\n",
       "┌─────────────┬────────────┬────────────┬────────────┬───┬──────────┬────────────┬───────┬─────────┐\n",
       "│ state       ┆ state_code ┆ num_coloni ┆ max_coloni ┆ … ┆ diseases ┆ pesticides ┆ other ┆ unknown │\n",
       "│ ---         ┆ ---        ┆ es         ┆ es         ┆   ┆ ---      ┆ ---        ┆ ---   ┆ ---     │\n",
       "│ str         ┆ str        ┆ ---        ┆ ---        ┆   ┆ f64      ┆ f64        ┆ f64   ┆ f64     │\n",
       "│             ┆            ┆ i64        ┆ i64        ┆   ┆          ┆            ┆       ┆         │\n",
       "╞═════════════╪════════════╪════════════╪════════════╪═══╪══════════╪════════════╪═══════╪═════════╡\n",
       "│ Pennsylvani ┆ PA         ┆ 28000      ┆ 30000      ┆ … ┆ 0.6      ┆ 1.7        ┆ 3.7   ┆ 0.8     │\n",
       "│ a           ┆            ┆            ┆            ┆   ┆          ┆            ┆       ┆         │\n",
       "│ Kentucky    ┆ KY         ┆ 10000      ┆ 10000      ┆ … ┆ 1.2      ┆ 6.5        ┆ 9.0   ┆ 2.0     │\n",
       "│ Michigan    ┆ MI         ┆ 98000      ┆ 98000      ┆ … ┆ 2.1      ┆ 4.6        ┆ 3.5   ┆ 1.7     │\n",
       "│ Arizona     ┆ AZ         ┆ 26000      ┆ 30000      ┆ … ┆ 2.7      ┆ 11.4       ┆ 13.2  ┆ 0.6     │\n",
       "│ …           ┆ …          ┆ …          ┆ …          ┆ … ┆ …        ┆ …          ┆ …     ┆ …       │\n",
       "│ South       ┆ SD         ┆ 28000      ┆ 34000      ┆ … ┆ 0.0      ┆ 0.0        ┆ 0.0   ┆ 0.8     │\n",
       "│ Dakota      ┆            ┆            ┆            ┆   ┆          ┆            ┆       ┆         │\n",
       "│ Montana     ┆ MT         ┆ 103000     ┆ 114000     ┆ … ┆ 1.2      ┆ 0.0        ┆ 14.8  ┆ 0.5     │\n",
       "│ Maryland    ┆ MD         ┆ 7000       ┆ 7000       ┆ … ┆ 0.0      ┆ 0.0        ┆ 8.5   ┆ 2.4     │\n",
       "│ New York    ┆ NY         ┆ 44000      ┆ 44000      ┆ … ┆ 0.0      ┆ 3.1        ┆ 7.7   ┆ 6.6     │\n",
       "└─────────────┴────────────┴────────────┴────────────┴───┴──────────┴────────────┴───────┴─────────┘"
      ]
     },
     "execution_count": 2,
     "metadata": {},
     "output_type": "execute_result"
    }
   ],
   "source": [
    "bd = pl.read_csv('D:/Programacion/buzz_data/input/save_the_bees.csv', )\n",
    "bd.sample(10)"
   ]
  },
  {
   "cell_type": "code",
   "execution_count": 3,
   "metadata": {},
   "outputs": [
    {
     "name": "stdout",
     "output_type": "stream",
     "text": [
      "Rows: 1453\n",
      "Columns: 17\n",
      "$ state                     <str> 'Alabama', 'Arizona', 'Arkansas', 'California', 'Colorado', 'Connecticut', 'Florida', 'Georgia', 'Hawaii', 'Idaho'\n",
      "$ state_code                <str> 'AL', 'AZ', 'AR', 'CA', 'CO', 'CT', 'FL', 'GA', 'HI', 'ID'\n",
      "$ num_colonies              <i64> 7000, 35000, 13000, 1440000, 3500, 3900, 305000, 104000, 10500, 81000\n",
      "$ max_colonies              <i64> 7000, 35000, 14000, 1690000, 12500, 3900, 315000, 105000, 10500, 88000\n",
      "$ lost_colonies             <i64> 1800, 4600, 1500, 255000, 1500, 870, 42000, 14500, 380, 3700\n",
      "$ percent_lost              <i64> 26, 13, 11, 15, 12, 22, 13, 14, 4, 4\n",
      "$ added_colonies            <i64> 2800, 3400, 1200, 250000, 200, 290, 54000, 47000, 3400, 2600\n",
      "$ renovated_colonies        <i64> 250, 2100, 90, 124000, 140, 0, 25000, 9500, 760, 8000\n",
      "$ percent_renovated         <i64> 4, 6, 1, 7, 1, 0, 8, 9, 7, 9\n",
      "$ quarter                   <i64> 1, 1, 1, 1, 1, 1, 1, 1, 1, 1\n",
      "$ year                      <i64> 2015, 2015, 2015, 2015, 2015, 2015, 2015, 2015, 2015, 2015\n",
      "$ varroa_mites              <f64> 10.0, 26.9, 17.6, 24.7, 14.6, 2.5, 22.3, 6.2, 38.8, 39.8\n",
      "$ other_pests_and_parasites <f64> 5.4, 20.5, 11.4, 7.2, 0.9, 1.4, 13.5, 4.9, 37.7, 6.7\n",
      "$ diseases                  <f64> 0.0, 0.1, 1.5, 3.0, 1.8, 0.0, 0.8, 3.3, 1.6, 12.5\n",
      "$ pesticides                <f64> 2.2, 0.0, 3.4, 7.5, 0.6, 0.0, 8.9, 2.6, 0.0, 4.8\n",
      "$ other                     <f64> 9.1, 1.8, 1.0, 6.5, 2.6, 21.2, 5.1, 4.8, 2.0, 8.9\n",
      "$ unknown                   <f64> 9.4, 3.1, 1.0, 2.8, 5.9, 2.4, 4.4, 10.5, 0.0, 4.9\n",
      "\n"
     ]
    }
   ],
   "source": [
    "bd.glimpse()"
   ]
  },
  {
   "cell_type": "code",
   "execution_count": 4,
   "metadata": {},
   "outputs": [
    {
     "data": {
      "text/html": [
       "<div><style>\n",
       ".dataframe > thead > tr,\n",
       ".dataframe > tbody > tr {\n",
       "  text-align: right;\n",
       "  white-space: pre-wrap;\n",
       "}\n",
       "</style>\n",
       "<small>shape: (9, 18)</small><table border=\"1\" class=\"dataframe\"><thead><tr><th>describe</th><th>state</th><th>state_code</th><th>num_colonies</th><th>max_colonies</th><th>lost_colonies</th><th>percent_lost</th><th>added_colonies</th><th>renovated_colonies</th><th>percent_renovated</th><th>quarter</th><th>year</th><th>varroa_mites</th><th>other_pests_and_parasites</th><th>diseases</th><th>pesticides</th><th>other</th><th>unknown</th></tr><tr><td>str</td><td>str</td><td>str</td><td>f64</td><td>f64</td><td>f64</td><td>f64</td><td>f64</td><td>f64</td><td>f64</td><td>f64</td><td>f64</td><td>f64</td><td>f64</td><td>f64</td><td>f64</td><td>f64</td><td>f64</td></tr></thead><tbody><tr><td>&quot;count&quot;</td><td>&quot;1453&quot;</td><td>&quot;1453&quot;</td><td>1453.0</td><td>1453.0</td><td>1453.0</td><td>1453.0</td><td>1453.0</td><td>1453.0</td><td>1453.0</td><td>1453.0</td><td>1453.0</td><td>1453.0</td><td>1453.0</td><td>1453.0</td><td>1453.0</td><td>1453.0</td><td>1453.0</td></tr><tr><td>&quot;null_count&quot;</td><td>&quot;0&quot;</td><td>&quot;0&quot;</td><td>0.0</td><td>0.0</td><td>0.0</td><td>0.0</td><td>0.0</td><td>0.0</td><td>0.0</td><td>0.0</td><td>0.0</td><td>0.0</td><td>0.0</td><td>0.0</td><td>0.0</td><td>0.0</td><td>0.0</td></tr><tr><td>&quot;mean&quot;</td><td>null</td><td>null</td><td>124469.979353</td><td>155948.671714</td><td>16759.710943</td><td>11.266345</td><td>15744.900206</td><td>13520.302822</td><td>7.11287</td><td>2.516173</td><td>2018.474191</td><td>30.186098</td><td>10.937509</td><td>3.406676</td><td>6.185272</td><td>6.083345</td><td>3.994907</td></tr><tr><td>&quot;std&quot;</td><td>null</td><td>null</td><td>438499.655483</td><td>550593.1281</td><td>60681.042329</td><td>7.359984</td><td>63548.43909</td><td>57201.973644</td><td>9.025198</td><td>1.132682</td><td>2.322824</td><td>18.861293</td><td>13.035092</td><td>6.472063</td><td>8.959392</td><td>6.488208</td><td>4.939563</td></tr><tr><td>&quot;min&quot;</td><td>&quot;Alabama&quot;</td><td>&quot;AL&quot;</td><td>1300.0</td><td>1300.0</td><td>0.0</td><td>0.0</td><td>0.0</td><td>0.0</td><td>0.0</td><td>1.0</td><td>2015.0</td><td>0.0</td><td>0.0</td><td>0.0</td><td>0.0</td><td>0.0</td><td>0.0</td></tr><tr><td>&quot;25%&quot;</td><td>null</td><td>null</td><td>8000.0</td><td>9500.0</td><td>950.0</td><td>6.0</td><td>380.0</td><td>150.0</td><td>1.0</td><td>1.0</td><td>2016.0</td><td>15.6</td><td>1.9</td><td>0.1</td><td>0.4</td><td>1.8</td><td>0.8</td></tr><tr><td>&quot;50%&quot;</td><td>null</td><td>null</td><td>18500.0</td><td>23000.0</td><td>2200.0</td><td>10.0</td><td>1500.0</td><td>800.0</td><td>4.0</td><td>3.0</td><td>2018.0</td><td>27.2</td><td>7.0</td><td>1.1</td><td>2.6</td><td>4.1</td><td>2.4</td></tr><tr><td>&quot;75%&quot;</td><td>null</td><td>null</td><td>59000.0</td><td>79000.0</td><td>7000.0</td><td>14.0</td><td>6000.0</td><td>3700.0</td><td>10.0</td><td>4.0</td><td>2021.0</td><td>42.2</td><td>15.1</td><td>4.2</td><td>8.5</td><td>8.2</td><td>5.4</td></tr><tr><td>&quot;max&quot;</td><td>&quot;Wyoming&quot;</td><td>&quot;WY&quot;</td><td>3.18118e6</td><td>4.17444e6</td><td>502350.0</td><td>65.0</td><td>736920.0</td><td>762550.0</td><td>77.0</td><td>4.0</td><td>2022.0</td><td>98.8</td><td>91.9</td><td>87.4</td><td>73.5</td><td>61.4</td><td>46.2</td></tr></tbody></table></div>"
      ],
      "text/plain": [
       "shape: (9, 18)\n",
       "┌────────────┬─────────┬────────────┬────────────┬───┬──────────┬────────────┬──────────┬──────────┐\n",
       "│ describe   ┆ state   ┆ state_code ┆ num_coloni ┆ … ┆ diseases ┆ pesticides ┆ other    ┆ unknown  │\n",
       "│ ---        ┆ ---     ┆ ---        ┆ es         ┆   ┆ ---      ┆ ---        ┆ ---      ┆ ---      │\n",
       "│ str        ┆ str     ┆ str        ┆ ---        ┆   ┆ f64      ┆ f64        ┆ f64      ┆ f64      │\n",
       "│            ┆         ┆            ┆ f64        ┆   ┆          ┆            ┆          ┆          │\n",
       "╞════════════╪═════════╪════════════╪════════════╪═══╪══════════╪════════════╪══════════╪══════════╡\n",
       "│ count      ┆ 1453    ┆ 1453       ┆ 1453.0     ┆ … ┆ 1453.0   ┆ 1453.0     ┆ 1453.0   ┆ 1453.0   │\n",
       "│ null_count ┆ 0       ┆ 0          ┆ 0.0        ┆ … ┆ 0.0      ┆ 0.0        ┆ 0.0      ┆ 0.0      │\n",
       "│ mean       ┆ null    ┆ null       ┆ 124469.979 ┆ … ┆ 3.406676 ┆ 6.185272   ┆ 6.083345 ┆ 3.994907 │\n",
       "│            ┆         ┆            ┆ 353        ┆   ┆          ┆            ┆          ┆          │\n",
       "│ std        ┆ null    ┆ null       ┆ 438499.655 ┆ … ┆ 6.472063 ┆ 8.959392   ┆ 6.488208 ┆ 4.939563 │\n",
       "│            ┆         ┆            ┆ 483        ┆   ┆          ┆            ┆          ┆          │\n",
       "│ min        ┆ Alabama ┆ AL         ┆ 1300.0     ┆ … ┆ 0.0      ┆ 0.0        ┆ 0.0      ┆ 0.0      │\n",
       "│ 25%        ┆ null    ┆ null       ┆ 8000.0     ┆ … ┆ 0.1      ┆ 0.4        ┆ 1.8      ┆ 0.8      │\n",
       "│ 50%        ┆ null    ┆ null       ┆ 18500.0    ┆ … ┆ 1.1      ┆ 2.6        ┆ 4.1      ┆ 2.4      │\n",
       "│ 75%        ┆ null    ┆ null       ┆ 59000.0    ┆ … ┆ 4.2      ┆ 8.5        ┆ 8.2      ┆ 5.4      │\n",
       "│ max        ┆ Wyoming ┆ WY         ┆ 3.18118e6  ┆ … ┆ 87.4     ┆ 73.5       ┆ 61.4     ┆ 46.2     │\n",
       "└────────────┴─────────┴────────────┴────────────┴───┴──────────┴────────────┴──────────┴──────────┘"
      ]
     },
     "execution_count": 4,
     "metadata": {},
     "output_type": "execute_result"
    }
   ],
   "source": [
    "# Basic statistical information, it looks like it dosen't have null values, let's take a deeper look\n",
    "bd.describe()"
   ]
  },
  {
   "cell_type": "code",
   "execution_count": 5,
   "metadata": {},
   "outputs": [
    {
     "data": {
      "text/html": [
       "<div><style>\n",
       ".dataframe > thead > tr,\n",
       ".dataframe > tbody > tr {\n",
       "  text-align: right;\n",
       "  white-space: pre-wrap;\n",
       "}\n",
       "</style>\n",
       "<small>shape: (1, 1)</small><table border=\"1\" class=\"dataframe\"><thead><tr><th>state</th></tr><tr><td>u32</td></tr></thead><tbody><tr><td>47</td></tr></tbody></table></div>"
      ],
      "text/plain": [
       "shape: (1, 1)\n",
       "┌───────┐\n",
       "│ state │\n",
       "│ ---   │\n",
       "│ u32   │\n",
       "╞═══════╡\n",
       "│ 47    │\n",
       "└───────┘"
      ]
     },
     "execution_count": 5,
     "metadata": {},
     "output_type": "execute_result"
    }
   ],
   "source": [
    "bd.select(pl.col(\"state\")).unique().count()"
   ]
  },
  {
   "cell_type": "code",
   "execution_count": 6,
   "metadata": {},
   "outputs": [
    {
     "data": {
      "text/html": [
       "<div><style>\n",
       ".dataframe > thead > tr,\n",
       ".dataframe > tbody > tr {\n",
       "  text-align: right;\n",
       "  white-space: pre-wrap;\n",
       "}\n",
       "</style>\n",
       "<small>shape: (1_453, 1)</small><table border=\"1\" class=\"dataframe\"><thead><tr><th>state</th></tr><tr><td>str</td></tr></thead><tbody><tr><td>&quot;Alabama&quot;</td></tr><tr><td>&quot;Arizona&quot;</td></tr><tr><td>&quot;Arkansas&quot;</td></tr><tr><td>&quot;California&quot;</td></tr><tr><td>&quot;Colorado&quot;</td></tr><tr><td>&quot;Connecticut&quot;</td></tr><tr><td>&quot;Florida&quot;</td></tr><tr><td>&quot;Georgia&quot;</td></tr><tr><td>&quot;Hawaii&quot;</td></tr><tr><td>&quot;Idaho&quot;</td></tr><tr><td>&quot;Illinois&quot;</td></tr><tr><td>&quot;Indiana&quot;</td></tr><tr><td>&hellip;</td></tr><tr><td>&quot;South Dakota&quot;</td></tr><tr><td>&quot;Tennessee&quot;</td></tr><tr><td>&quot;Texas&quot;</td></tr><tr><td>&quot;Utah&quot;</td></tr><tr><td>&quot;Vermont&quot;</td></tr><tr><td>&quot;Virginia&quot;</td></tr><tr><td>&quot;Washington&quot;</td></tr><tr><td>&quot;West Virginia&quot;</td></tr><tr><td>&quot;Wisconsin&quot;</td></tr><tr><td>&quot;Wyoming&quot;</td></tr><tr><td>&quot;Other&quot;</td></tr><tr><td>&quot;United States&quot;</td></tr></tbody></table></div>"
      ],
      "text/plain": [
       "shape: (1_453, 1)\n",
       "┌───────────────┐\n",
       "│ state         │\n",
       "│ ---           │\n",
       "│ str           │\n",
       "╞═══════════════╡\n",
       "│ Alabama       │\n",
       "│ Arizona       │\n",
       "│ Arkansas      │\n",
       "│ California    │\n",
       "│ …             │\n",
       "│ Wisconsin     │\n",
       "│ Wyoming       │\n",
       "│ Other         │\n",
       "│ United States │\n",
       "└───────────────┘"
      ]
     },
     "execution_count": 6,
     "metadata": {},
     "output_type": "execute_result"
    }
   ],
   "source": [
    "state = bd.select(pl.col(\"state\"))\n",
    "state"
   ]
  },
  {
   "cell_type": "code",
   "execution_count": 7,
   "metadata": {},
   "outputs": [
    {
     "data": {
      "text/html": [
       "<div><style>\n",
       ".dataframe > thead > tr,\n",
       ".dataframe > tbody > tr {\n",
       "  text-align: right;\n",
       "  white-space: pre-wrap;\n",
       "}\n",
       "</style>\n",
       "<small>shape: (1_453, 1)</small><table border=\"1\" class=\"dataframe\"><thead><tr><th>num_colonies</th></tr><tr><td>i64</td></tr></thead><tbody><tr><td>7000</td></tr><tr><td>35000</td></tr><tr><td>13000</td></tr><tr><td>1440000</td></tr><tr><td>3500</td></tr><tr><td>3900</td></tr><tr><td>305000</td></tr><tr><td>104000</td></tr><tr><td>10500</td></tr><tr><td>81000</td></tr><tr><td>6000</td></tr><tr><td>9000</td></tr><tr><td>&hellip;</td></tr><tr><td>175000</td></tr><tr><td>8500</td></tr><tr><td>210000</td></tr><tr><td>25000</td></tr><tr><td>10000</td></tr><tr><td>9000</td></tr><tr><td>84000</td></tr><tr><td>7500</td></tr><tr><td>26000</td></tr><tr><td>19500</td></tr><tr><td>30030</td></tr><tr><td>2888130</td></tr></tbody></table></div>"
      ],
      "text/plain": [
       "shape: (1_453, 1)\n",
       "┌──────────────┐\n",
       "│ num_colonies │\n",
       "│ ---          │\n",
       "│ i64          │\n",
       "╞══════════════╡\n",
       "│ 7000         │\n",
       "│ 35000        │\n",
       "│ 13000        │\n",
       "│ 1440000      │\n",
       "│ …            │\n",
       "│ 26000        │\n",
       "│ 19500        │\n",
       "│ 30030        │\n",
       "│ 2888130      │\n",
       "└──────────────┘"
      ]
     },
     "execution_count": 7,
     "metadata": {},
     "output_type": "execute_result"
    }
   ],
   "source": [
    "col = bd.select(pl.col(\"num_colonies\"))\n",
    "col"
   ]
  },
  {
   "cell_type": "code",
   "execution_count": 8,
   "metadata": {},
   "outputs": [
    {
     "data": {
      "text/html": [
       "<div><style>\n",
       ".dataframe > thead > tr,\n",
       ".dataframe > tbody > tr {\n",
       "  text-align: right;\n",
       "  white-space: pre-wrap;\n",
       "}\n",
       "</style>\n",
       "<small>shape: (1_453, 1)</small><table border=\"1\" class=\"dataframe\"><thead><tr><th>lost_colonies</th></tr><tr><td>i64</td></tr></thead><tbody><tr><td>1800</td></tr><tr><td>4600</td></tr><tr><td>1500</td></tr><tr><td>255000</td></tr><tr><td>1500</td></tr><tr><td>870</td></tr><tr><td>42000</td></tr><tr><td>14500</td></tr><tr><td>380</td></tr><tr><td>3700</td></tr><tr><td>4200</td></tr><tr><td>2100</td></tr><tr><td>&hellip;</td></tr><tr><td>27000</td></tr><tr><td>1400</td></tr><tr><td>7500</td></tr><tr><td>1800</td></tr><tr><td>370</td></tr><tr><td>1300</td></tr><tr><td>7500</td></tr><tr><td>1100</td></tr><tr><td>3500</td></tr><tr><td>3200</td></tr><tr><td>480</td></tr><tr><td>353910</td></tr></tbody></table></div>"
      ],
      "text/plain": [
       "shape: (1_453, 1)\n",
       "┌───────────────┐\n",
       "│ lost_colonies │\n",
       "│ ---           │\n",
       "│ i64           │\n",
       "╞═══════════════╡\n",
       "│ 1800          │\n",
       "│ 4600          │\n",
       "│ 1500          │\n",
       "│ 255000        │\n",
       "│ …             │\n",
       "│ 3500          │\n",
       "│ 3200          │\n",
       "│ 480           │\n",
       "│ 353910        │\n",
       "└───────────────┘"
      ]
     },
     "execution_count": 8,
     "metadata": {},
     "output_type": "execute_result"
    }
   ],
   "source": [
    "lost = bd.select(pl.col(\"lost_colonies\"))\n",
    "lost"
   ]
  },
  {
   "cell_type": "code",
   "execution_count": 9,
   "metadata": {},
   "outputs": [
    {
     "data": {
      "text/html": [
       "<div><style>\n",
       ".dataframe > thead > tr,\n",
       ".dataframe > tbody > tr {\n",
       "  text-align: right;\n",
       "  white-space: pre-wrap;\n",
       "}\n",
       "</style>\n",
       "<small>shape: (1_453, 1)</small><table border=\"1\" class=\"dataframe\"><thead><tr><th>num_colonies</th></tr><tr><td>f64</td></tr></thead><tbody><tr><td>7900.0</td></tr><tr><td>37300.0</td></tr><tr><td>13750.0</td></tr><tr><td>1.5675e6</td></tr><tr><td>4250.0</td></tr><tr><td>4335.0</td></tr><tr><td>326000.0</td></tr><tr><td>111250.0</td></tr><tr><td>10690.0</td></tr><tr><td>82850.0</td></tr><tr><td>8100.0</td></tr><tr><td>10050.0</td></tr><tr><td>&hellip;</td></tr><tr><td>188500.0</td></tr><tr><td>9200.0</td></tr><tr><td>213750.0</td></tr><tr><td>25900.0</td></tr><tr><td>10185.0</td></tr><tr><td>9650.0</td></tr><tr><td>87750.0</td></tr><tr><td>8050.0</td></tr><tr><td>27750.0</td></tr><tr><td>21100.0</td></tr><tr><td>30270.0</td></tr><tr><td>3.065085e6</td></tr></tbody></table></div>"
      ],
      "text/plain": [
       "shape: (1_453, 1)\n",
       "┌──────────────┐\n",
       "│ num_colonies │\n",
       "│ ---          │\n",
       "│ f64          │\n",
       "╞══════════════╡\n",
       "│ 7900.0       │\n",
       "│ 37300.0      │\n",
       "│ 13750.0      │\n",
       "│ 1.5675e6     │\n",
       "│ …            │\n",
       "│ 27750.0      │\n",
       "│ 21100.0      │\n",
       "│ 30270.0      │\n",
       "│ 3.065085e6   │\n",
       "└──────────────┘"
      ]
     },
     "execution_count": 9,
     "metadata": {},
     "output_type": "execute_result"
    }
   ],
   "source": [
    "((col +\n",
    "  lost/2)\n",
    ")"
   ]
  },
  {
   "cell_type": "code",
   "execution_count": 10,
   "metadata": {},
   "outputs": [
    {
     "data": {
      "text/html": [
       "<div><style>\n",
       ".dataframe > thead > tr,\n",
       ".dataframe > tbody > tr {\n",
       "  text-align: right;\n",
       "  white-space: pre-wrap;\n",
       "}\n",
       "</style>\n",
       "<small>shape: (1_453, 18)</small><table border=\"1\" class=\"dataframe\"><thead><tr><th>state</th><th>state_code</th><th>num_colonies</th><th>max_colonies</th><th>lost_colonies</th><th>percent_lost</th><th>added_colonies</th><th>renovated_colonies</th><th>percent_renovated</th><th>quarter</th><th>year</th><th>varroa_mites</th><th>other_pests_and_parasites</th><th>diseases</th><th>pesticides</th><th>other</th><th>unknown</th><th>e</th></tr><tr><td>str</td><td>str</td><td>i64</td><td>i64</td><td>i64</td><td>i64</td><td>i64</td><td>i64</td><td>i64</td><td>i64</td><td>i64</td><td>f64</td><td>f64</td><td>f64</td><td>f64</td><td>f64</td><td>f64</td><td>i64</td></tr></thead><tbody><tr><td>&quot;Alabama&quot;</td><td>&quot;AL&quot;</td><td>7000</td><td>7000</td><td>1800</td><td>26</td><td>2800</td><td>250</td><td>4</td><td>1</td><td>2015</td><td>10.0</td><td>5.4</td><td>0.0</td><td>2.2</td><td>9.1</td><td>9.4</td><td>8800</td></tr><tr><td>&quot;Arizona&quot;</td><td>&quot;AZ&quot;</td><td>35000</td><td>35000</td><td>4600</td><td>13</td><td>3400</td><td>2100</td><td>6</td><td>1</td><td>2015</td><td>26.9</td><td>20.5</td><td>0.1</td><td>0.0</td><td>1.8</td><td>3.1</td><td>39600</td></tr><tr><td>&quot;Arkansas&quot;</td><td>&quot;AR&quot;</td><td>13000</td><td>14000</td><td>1500</td><td>11</td><td>1200</td><td>90</td><td>1</td><td>1</td><td>2015</td><td>17.6</td><td>11.4</td><td>1.5</td><td>3.4</td><td>1.0</td><td>1.0</td><td>14500</td></tr><tr><td>&quot;California&quot;</td><td>&quot;CA&quot;</td><td>1440000</td><td>1690000</td><td>255000</td><td>15</td><td>250000</td><td>124000</td><td>7</td><td>1</td><td>2015</td><td>24.7</td><td>7.2</td><td>3.0</td><td>7.5</td><td>6.5</td><td>2.8</td><td>1695000</td></tr><tr><td>&quot;Colorado&quot;</td><td>&quot;CO&quot;</td><td>3500</td><td>12500</td><td>1500</td><td>12</td><td>200</td><td>140</td><td>1</td><td>1</td><td>2015</td><td>14.6</td><td>0.9</td><td>1.8</td><td>0.6</td><td>2.6</td><td>5.9</td><td>5000</td></tr><tr><td>&quot;Connecticut&quot;</td><td>&quot;CT&quot;</td><td>3900</td><td>3900</td><td>870</td><td>22</td><td>290</td><td>0</td><td>0</td><td>1</td><td>2015</td><td>2.5</td><td>1.4</td><td>0.0</td><td>0.0</td><td>21.2</td><td>2.4</td><td>4770</td></tr><tr><td>&quot;Florida&quot;</td><td>&quot;FL&quot;</td><td>305000</td><td>315000</td><td>42000</td><td>13</td><td>54000</td><td>25000</td><td>8</td><td>1</td><td>2015</td><td>22.3</td><td>13.5</td><td>0.8</td><td>8.9</td><td>5.1</td><td>4.4</td><td>347000</td></tr><tr><td>&quot;Georgia&quot;</td><td>&quot;GA&quot;</td><td>104000</td><td>105000</td><td>14500</td><td>14</td><td>47000</td><td>9500</td><td>9</td><td>1</td><td>2015</td><td>6.2</td><td>4.9</td><td>3.3</td><td>2.6</td><td>4.8</td><td>10.5</td><td>118500</td></tr><tr><td>&quot;Hawaii&quot;</td><td>&quot;HI&quot;</td><td>10500</td><td>10500</td><td>380</td><td>4</td><td>3400</td><td>760</td><td>7</td><td>1</td><td>2015</td><td>38.8</td><td>37.7</td><td>1.6</td><td>0.0</td><td>2.0</td><td>0.0</td><td>10880</td></tr><tr><td>&quot;Idaho&quot;</td><td>&quot;ID&quot;</td><td>81000</td><td>88000</td><td>3700</td><td>4</td><td>2600</td><td>8000</td><td>9</td><td>1</td><td>2015</td><td>39.8</td><td>6.7</td><td>12.5</td><td>4.8</td><td>8.9</td><td>4.9</td><td>84700</td></tr><tr><td>&quot;Illinois&quot;</td><td>&quot;IL&quot;</td><td>6000</td><td>10500</td><td>4200</td><td>40</td><td>2300</td><td>390</td><td>4</td><td>1</td><td>2015</td><td>12.3</td><td>6.9</td><td>0.7</td><td>0.4</td><td>12.6</td><td>11.6</td><td>10200</td></tr><tr><td>&quot;Indiana&quot;</td><td>&quot;IN&quot;</td><td>9000</td><td>9500</td><td>2100</td><td>22</td><td>490</td><td>120</td><td>1</td><td>1</td><td>2015</td><td>20.7</td><td>0.3</td><td>0.2</td><td>0.3</td><td>22.3</td><td>11.7</td><td>11100</td></tr><tr><td>&hellip;</td><td>&hellip;</td><td>&hellip;</td><td>&hellip;</td><td>&hellip;</td><td>&hellip;</td><td>&hellip;</td><td>&hellip;</td><td>&hellip;</td><td>&hellip;</td><td>&hellip;</td><td>&hellip;</td><td>&hellip;</td><td>&hellip;</td><td>&hellip;</td><td>&hellip;</td><td>&hellip;</td><td>&hellip;</td></tr><tr><td>&quot;South Dakota&quot;</td><td>&quot;SD&quot;</td><td>175000</td><td>175000</td><td>27000</td><td>15</td><td>20</td><td>10</td><td>0</td><td>4</td><td>2022</td><td>67.1</td><td>30.7</td><td>5.0</td><td>11.4</td><td>9.4</td><td>0.0</td><td>202000</td></tr><tr><td>&quot;Tennessee&quot;</td><td>&quot;TN&quot;</td><td>8500</td><td>10500</td><td>1400</td><td>13</td><td>1700</td><td>620</td><td>6</td><td>4</td><td>2022</td><td>24.4</td><td>7.6</td><td>2.5</td><td>0.7</td><td>1.0</td><td>3.1</td><td>9900</td></tr><tr><td>&quot;Texas&quot;</td><td>&quot;TX&quot;</td><td>210000</td><td>260000</td><td>7500</td><td>3</td><td>720</td><td>2200</td><td>1</td><td>4</td><td>2022</td><td>14.0</td><td>12.8</td><td>4.3</td><td>4.3</td><td>3.8</td><td>3.0</td><td>217500</td></tr><tr><td>&quot;Utah&quot;</td><td>&quot;UT&quot;</td><td>25000</td><td>26000</td><td>1800</td><td>7</td><td>990</td><td>250</td><td>1</td><td>4</td><td>2022</td><td>9.2</td><td>3.2</td><td>2.1</td><td>0.0</td><td>0.0</td><td>0.0</td><td>26800</td></tr><tr><td>&quot;Vermont&quot;</td><td>&quot;VT&quot;</td><td>10000</td><td>10000</td><td>370</td><td>4</td><td>400</td><td>0</td><td>0</td><td>4</td><td>2022</td><td>12.0</td><td>3.2</td><td>1.1</td><td>0.6</td><td>0.0</td><td>0.0</td><td>10370</td></tr><tr><td>&quot;Virginia&quot;</td><td>&quot;VA&quot;</td><td>9000</td><td>10500</td><td>1300</td><td>12</td><td>300</td><td>750</td><td>7</td><td>4</td><td>2022</td><td>43.3</td><td>20.9</td><td>0.0</td><td>0.0</td><td>6.4</td><td>3.9</td><td>10300</td></tr><tr><td>&quot;Washington&quot;</td><td>&quot;WA&quot;</td><td>84000</td><td>89000</td><td>7500</td><td>8</td><td>540</td><td>220</td><td>0</td><td>4</td><td>2022</td><td>34.0</td><td>6.4</td><td>0.0</td><td>0.0</td><td>4.2</td><td>8.2</td><td>91500</td></tr><tr><td>&quot;West Virginia&quot;</td><td>&quot;WV&quot;</td><td>7500</td><td>8000</td><td>1100</td><td>14</td><td>0</td><td>220</td><td>3</td><td>4</td><td>2022</td><td>33.4</td><td>3.8</td><td>0.8</td><td>0.0</td><td>6.4</td><td>0.5</td><td>8600</td></tr><tr><td>&quot;Wisconsin&quot;</td><td>&quot;WI&quot;</td><td>26000</td><td>47000</td><td>3500</td><td>7</td><td>140</td><td>380</td><td>1</td><td>4</td><td>2022</td><td>23.2</td><td>21.4</td><td>19.4</td><td>17.5</td><td>9.9</td><td>11.7</td><td>29500</td></tr><tr><td>&quot;Wyoming&quot;</td><td>&quot;WY&quot;</td><td>19500</td><td>21000</td><td>3200</td><td>15</td><td>640</td><td>0</td><td>0</td><td>4</td><td>2022</td><td>22.9</td><td>5.9</td><td>4.2</td><td>0.0</td><td>0.0</td><td>7.4</td><td>22700</td></tr><tr><td>&quot;Other&quot;</td><td>&quot;OT&quot;</td><td>30030</td><td>30030</td><td>480</td><td>2</td><td>1190</td><td>130</td><td>0</td><td>4</td><td>2022</td><td>22.4</td><td>18.5</td><td>0.0</td><td>0.0</td><td>0.0</td><td>0.7</td><td>30510</td></tr><tr><td>&quot;United States&quot;</td><td>&quot;US&quot;</td><td>2888130</td><td>3595030</td><td>353910</td><td>12</td><td>170280</td><td>147950</td><td>5</td><td>4</td><td>2022</td><td>44.3</td><td>19.8</td><td>10.3</td><td>12.4</td><td>14.2</td><td>4.7</td><td>3242040</td></tr></tbody></table></div>"
      ],
      "text/plain": [
       "shape: (1_453, 18)\n",
       "┌─────────────┬────────────┬─────────────┬────────────┬───┬────────────┬───────┬─────────┬─────────┐\n",
       "│ state       ┆ state_code ┆ num_colonie ┆ max_coloni ┆ … ┆ pesticides ┆ other ┆ unknown ┆ e       │\n",
       "│ ---         ┆ ---        ┆ s           ┆ es         ┆   ┆ ---        ┆ ---   ┆ ---     ┆ ---     │\n",
       "│ str         ┆ str        ┆ ---         ┆ ---        ┆   ┆ f64        ┆ f64   ┆ f64     ┆ i64     │\n",
       "│             ┆            ┆ i64         ┆ i64        ┆   ┆            ┆       ┆         ┆         │\n",
       "╞═════════════╪════════════╪═════════════╪════════════╪═══╪════════════╪═══════╪═════════╪═════════╡\n",
       "│ Alabama     ┆ AL         ┆ 7000        ┆ 7000       ┆ … ┆ 2.2        ┆ 9.1   ┆ 9.4     ┆ 8800    │\n",
       "│ Arizona     ┆ AZ         ┆ 35000       ┆ 35000      ┆ … ┆ 0.0        ┆ 1.8   ┆ 3.1     ┆ 39600   │\n",
       "│ Arkansas    ┆ AR         ┆ 13000       ┆ 14000      ┆ … ┆ 3.4        ┆ 1.0   ┆ 1.0     ┆ 14500   │\n",
       "│ California  ┆ CA         ┆ 1440000     ┆ 1690000    ┆ … ┆ 7.5        ┆ 6.5   ┆ 2.8     ┆ 1695000 │\n",
       "│ …           ┆ …          ┆ …           ┆ …          ┆ … ┆ …          ┆ …     ┆ …       ┆ …       │\n",
       "│ Wisconsin   ┆ WI         ┆ 26000       ┆ 47000      ┆ … ┆ 17.5       ┆ 9.9   ┆ 11.7    ┆ 29500   │\n",
       "│ Wyoming     ┆ WY         ┆ 19500       ┆ 21000      ┆ … ┆ 0.0        ┆ 0.0   ┆ 7.4     ┆ 22700   │\n",
       "│ Other       ┆ OT         ┆ 30030       ┆ 30030      ┆ … ┆ 0.0        ┆ 0.0   ┆ 0.7     ┆ 30510   │\n",
       "│ United      ┆ US         ┆ 2888130     ┆ 3595030    ┆ … ┆ 12.4       ┆ 14.2  ┆ 4.7     ┆ 3242040 │\n",
       "│ States      ┆            ┆             ┆            ┆   ┆            ┆       ┆         ┆         │\n",
       "└─────────────┴────────────┴─────────────┴────────────┴───┴────────────┴───────┴─────────┴─────────┘"
      ]
     },
     "execution_count": 10,
     "metadata": {},
     "output_type": "execute_result"
    }
   ],
   "source": [
    "bd.with_columns(pl.col(\"num_colonies\").add(pl.col(\"lost_colonies\")).alias(\"e\"))"
   ]
  },
  {
   "cell_type": "code",
   "execution_count": 11,
   "metadata": {},
   "outputs": [
    {
     "data": {
      "text/html": [
       "<div><style>\n",
       ".dataframe > thead > tr,\n",
       ".dataframe > tbody > tr {\n",
       "  text-align: right;\n",
       "  white-space: pre-wrap;\n",
       "}\n",
       "</style>\n",
       "<small>shape: (1, 1)</small><table border=\"1\" class=\"dataframe\"><thead><tr><th>num_colonies</th></tr><tr><td>f64</td></tr></thead><tbody><tr><td>124469.979353</td></tr></tbody></table></div>"
      ],
      "text/plain": [
       "shape: (1, 1)\n",
       "┌───────────────┐\n",
       "│ num_colonies  │\n",
       "│ ---           │\n",
       "│ f64           │\n",
       "╞═══════════════╡\n",
       "│ 124469.979353 │\n",
       "└───────────────┘"
      ]
     },
     "execution_count": 11,
     "metadata": {},
     "output_type": "execute_result"
    }
   ],
   "source": [
    "col.mean()"
   ]
  },
  {
   "cell_type": "code",
   "execution_count": 13,
   "metadata": {},
   "outputs": [
    {
     "data": {
      "text/plain": [
       "<bound method DataFrame.is_unique of shape: (1_453, 1)\n",
       "┌──────────────┐\n",
       "│ num_colonies │\n",
       "│ ---          │\n",
       "│ i64          │\n",
       "╞══════════════╡\n",
       "│ 7000         │\n",
       "│ 35000        │\n",
       "│ 13000        │\n",
       "│ 1440000      │\n",
       "│ …            │\n",
       "│ 26000        │\n",
       "│ 19500        │\n",
       "│ 30030        │\n",
       "│ 2888130      │\n",
       "└──────────────┘>"
      ]
     },
     "execution_count": 13,
     "metadata": {},
     "output_type": "execute_result"
    }
   ],
   "source": [
    "col.is_unique"
   ]
  },
  {
   "cell_type": "code",
   "execution_count": 24,
   "metadata": {},
   "outputs": [
    {
     "data": {
      "text/html": [
       "<div><style>\n",
       ".dataframe > thead > tr,\n",
       ".dataframe > tbody > tr {\n",
       "  text-align: right;\n",
       "  white-space: pre-wrap;\n",
       "}\n",
       "</style>\n",
       "<small>shape: (1, 1)</small><table border=\"1\" class=\"dataframe\"><thead><tr><th>num_colonies</th></tr><tr><td>f64</td></tr></thead><tbody><tr><td>18500.0</td></tr></tbody></table></div>"
      ],
      "text/plain": [
       "shape: (1, 1)\n",
       "┌──────────────┐\n",
       "│ num_colonies │\n",
       "│ ---          │\n",
       "│ f64          │\n",
       "╞══════════════╡\n",
       "│ 18500.0      │\n",
       "└──────────────┘"
      ]
     },
     "execution_count": 24,
     "metadata": {},
     "output_type": "execute_result"
    }
   ],
   "source": [
    "col.quantile(.5)"
   ]
  },
  {
   "cell_type": "code",
   "execution_count": 29,
   "metadata": {},
   "outputs": [
    {
     "ename": "ImportError",
     "evalue": "Usage of the DataFrame Interchange Protocol requires\nversion 11.0.0 or greater of the pyarrow package. \nThis can be installed with pip using:\n   pip install \"pyarrow>=11.0.0\"\nor conda:\n   conda install -c conda-forge \"pyarrow>=11.0.0\"\n\nImportError: pyarrow",
     "output_type": "error",
     "traceback": [
      "\u001b[1;31m---------------------------------------------------------------------------\u001b[0m",
      "\u001b[1;31mPackageNotFoundError\u001b[0m                      Traceback (most recent call last)",
      "File \u001b[1;32md:\\Programacion\\buzz_data\\venv\\Lib\\site-packages\\altair\\utils\\_importers.py:66\u001b[0m, in \u001b[0;36mimport_pyarrow_interchange\u001b[1;34m()\u001b[0m\n\u001b[0;32m     65\u001b[0m \u001b[38;5;28;01mtry\u001b[39;00m:\n\u001b[1;32m---> 66\u001b[0m     version \u001b[38;5;241m=\u001b[39m \u001b[43mimportlib_version\u001b[49m\u001b[43m(\u001b[49m\u001b[38;5;124;43m\"\u001b[39;49m\u001b[38;5;124;43mpyarrow\u001b[39;49m\u001b[38;5;124;43m\"\u001b[39;49m\u001b[43m)\u001b[49m\n\u001b[0;32m     68\u001b[0m     \u001b[38;5;28;01mif\u001b[39;00m Version(version) \u001b[38;5;241m<\u001b[39m Version(min_version):\n",
      "File \u001b[1;32m~\\AppData\\Local\\Programs\\Python\\Python311\\Lib\\importlib\\metadata\\__init__.py:991\u001b[0m, in \u001b[0;36mversion\u001b[1;34m(distribution_name)\u001b[0m\n\u001b[0;32m    985\u001b[0m \u001b[38;5;250m\u001b[39m\u001b[38;5;124;03m\"\"\"Get the version string for the named package.\u001b[39;00m\n\u001b[0;32m    986\u001b[0m \n\u001b[0;32m    987\u001b[0m \u001b[38;5;124;03m:param distribution_name: The name of the distribution package to query.\u001b[39;00m\n\u001b[0;32m    988\u001b[0m \u001b[38;5;124;03m:return: The version string for the package as defined in the package's\u001b[39;00m\n\u001b[0;32m    989\u001b[0m \u001b[38;5;124;03m    \"Version\" metadata key.\u001b[39;00m\n\u001b[0;32m    990\u001b[0m \u001b[38;5;124;03m\"\"\"\u001b[39;00m\n\u001b[1;32m--> 991\u001b[0m \u001b[38;5;28;01mreturn\u001b[39;00m \u001b[43mdistribution\u001b[49m\u001b[43m(\u001b[49m\u001b[43mdistribution_name\u001b[49m\u001b[43m)\u001b[49m\u001b[38;5;241m.\u001b[39mversion\n",
      "File \u001b[1;32m~\\AppData\\Local\\Programs\\Python\\Python311\\Lib\\importlib\\metadata\\__init__.py:964\u001b[0m, in \u001b[0;36mdistribution\u001b[1;34m(distribution_name)\u001b[0m\n\u001b[0;32m    959\u001b[0m \u001b[38;5;250m\u001b[39m\u001b[38;5;124;03m\"\"\"Get the ``Distribution`` instance for the named package.\u001b[39;00m\n\u001b[0;32m    960\u001b[0m \n\u001b[0;32m    961\u001b[0m \u001b[38;5;124;03m:param distribution_name: The name of the distribution package as a string.\u001b[39;00m\n\u001b[0;32m    962\u001b[0m \u001b[38;5;124;03m:return: A ``Distribution`` instance (or subclass thereof).\u001b[39;00m\n\u001b[0;32m    963\u001b[0m \u001b[38;5;124;03m\"\"\"\u001b[39;00m\n\u001b[1;32m--> 964\u001b[0m \u001b[38;5;28;01mreturn\u001b[39;00m \u001b[43mDistribution\u001b[49m\u001b[38;5;241;43m.\u001b[39;49m\u001b[43mfrom_name\u001b[49m\u001b[43m(\u001b[49m\u001b[43mdistribution_name\u001b[49m\u001b[43m)\u001b[49m\n",
      "File \u001b[1;32m~\\AppData\\Local\\Programs\\Python\\Python311\\Lib\\importlib\\metadata\\__init__.py:561\u001b[0m, in \u001b[0;36mDistribution.from_name\u001b[1;34m(cls, name)\u001b[0m\n\u001b[0;32m    560\u001b[0m \u001b[38;5;28;01melse\u001b[39;00m:\n\u001b[1;32m--> 561\u001b[0m     \u001b[38;5;28;01mraise\u001b[39;00m PackageNotFoundError(name)\n",
      "\u001b[1;31mPackageNotFoundError\u001b[0m: No package metadata was found for pyarrow",
      "\nThe above exception was the direct cause of the following exception:\n",
      "\u001b[1;31mImportError\u001b[0m                               Traceback (most recent call last)",
      "File \u001b[1;32md:\\Programacion\\buzz_data\\venv\\Lib\\site-packages\\altair\\vegalite\\v5\\api.py:2975\u001b[0m, in \u001b[0;36mChart.to_dict\u001b[1;34m(self, validate, format, ignore, context)\u001b[0m\n\u001b[0;32m   2971\u001b[0m     copy\u001b[38;5;241m.\u001b[39mdata \u001b[38;5;241m=\u001b[39m core\u001b[38;5;241m.\u001b[39mInlineData(values\u001b[38;5;241m=\u001b[39m[{}])  \u001b[38;5;66;03m# type: ignore[assignment]\u001b[39;00m\n\u001b[0;32m   2972\u001b[0m     \u001b[38;5;28;01mreturn\u001b[39;00m \u001b[38;5;28msuper\u001b[39m(Chart, copy)\u001b[38;5;241m.\u001b[39mto_dict(\n\u001b[0;32m   2973\u001b[0m         validate\u001b[38;5;241m=\u001b[39mvalidate, \u001b[38;5;28mformat\u001b[39m\u001b[38;5;241m=\u001b[39m\u001b[38;5;28mformat\u001b[39m, ignore\u001b[38;5;241m=\u001b[39mignore, context\u001b[38;5;241m=\u001b[39mcontext\n\u001b[0;32m   2974\u001b[0m     )\n\u001b[1;32m-> 2975\u001b[0m \u001b[38;5;28;01mreturn\u001b[39;00m \u001b[38;5;28;43msuper\u001b[39;49m\u001b[43m(\u001b[49m\u001b[43m)\u001b[49m\u001b[38;5;241;43m.\u001b[39;49m\u001b[43mto_dict\u001b[49m\u001b[43m(\u001b[49m\n\u001b[0;32m   2976\u001b[0m \u001b[43m    \u001b[49m\u001b[43mvalidate\u001b[49m\u001b[38;5;241;43m=\u001b[39;49m\u001b[43mvalidate\u001b[49m\u001b[43m,\u001b[49m\u001b[43m \u001b[49m\u001b[38;5;28;43mformat\u001b[39;49m\u001b[38;5;241;43m=\u001b[39;49m\u001b[38;5;28;43mformat\u001b[39;49m\u001b[43m,\u001b[49m\u001b[43m \u001b[49m\u001b[43mignore\u001b[49m\u001b[38;5;241;43m=\u001b[39;49m\u001b[43mignore\u001b[49m\u001b[43m,\u001b[49m\u001b[43m \u001b[49m\u001b[43mcontext\u001b[49m\u001b[38;5;241;43m=\u001b[39;49m\u001b[43mcontext\u001b[49m\n\u001b[0;32m   2977\u001b[0m \u001b[43m\u001b[49m\u001b[43m)\u001b[49m\n",
      "File \u001b[1;32md:\\Programacion\\buzz_data\\venv\\Lib\\site-packages\\altair\\vegalite\\v5\\api.py:950\u001b[0m, in \u001b[0;36mTopLevelMixin.to_dict\u001b[1;34m(self, validate, format, ignore, context)\u001b[0m\n\u001b[0;32m    948\u001b[0m copy \u001b[38;5;241m=\u001b[39m \u001b[38;5;28mself\u001b[39m\u001b[38;5;241m.\u001b[39mcopy(deep\u001b[38;5;241m=\u001b[39m\u001b[38;5;28;01mFalse\u001b[39;00m)  \u001b[38;5;66;03m# type: ignore[attr-defined]\u001b[39;00m\n\u001b[0;32m    949\u001b[0m original_data \u001b[38;5;241m=\u001b[39m \u001b[38;5;28mgetattr\u001b[39m(copy, \u001b[38;5;124m\"\u001b[39m\u001b[38;5;124mdata\u001b[39m\u001b[38;5;124m\"\u001b[39m, Undefined)\n\u001b[1;32m--> 950\u001b[0m copy\u001b[38;5;241m.\u001b[39mdata \u001b[38;5;241m=\u001b[39m \u001b[43m_prepare_data\u001b[49m\u001b[43m(\u001b[49m\u001b[43moriginal_data\u001b[49m\u001b[43m,\u001b[49m\u001b[43m \u001b[49m\u001b[43mcontext\u001b[49m\u001b[43m)\u001b[49m\n\u001b[0;32m    952\u001b[0m \u001b[38;5;28;01mif\u001b[39;00m original_data \u001b[38;5;129;01mis\u001b[39;00m \u001b[38;5;129;01mnot\u001b[39;00m Undefined:\n\u001b[0;32m    953\u001b[0m     context[\u001b[38;5;124m\"\u001b[39m\u001b[38;5;124mdata\u001b[39m\u001b[38;5;124m\"\u001b[39m] \u001b[38;5;241m=\u001b[39m original_data\n",
      "File \u001b[1;32md:\\Programacion\\buzz_data\\venv\\Lib\\site-packages\\altair\\vegalite\\v5\\api.py:118\u001b[0m, in \u001b[0;36m_prepare_data\u001b[1;34m(data, context)\u001b[0m\n\u001b[0;32m    115\u001b[0m     data \u001b[38;5;241m=\u001b[39m core\u001b[38;5;241m.\u001b[39mUrlData(data)\n\u001b[0;32m    117\u001b[0m \u001b[38;5;28;01melif\u001b[39;00m \u001b[38;5;28mhasattr\u001b[39m(data, \u001b[38;5;124m\"\u001b[39m\u001b[38;5;124m__dataframe__\u001b[39m\u001b[38;5;124m\"\u001b[39m):\n\u001b[1;32m--> 118\u001b[0m     data \u001b[38;5;241m=\u001b[39m \u001b[43m_pipe\u001b[49m\u001b[43m(\u001b[49m\u001b[43mdata\u001b[49m\u001b[43m,\u001b[49m\u001b[43m \u001b[49m\u001b[43mdata_transformers\u001b[49m\u001b[38;5;241;43m.\u001b[39;49m\u001b[43mget\u001b[49m\u001b[43m(\u001b[49m\u001b[43m)\u001b[49m\u001b[43m)\u001b[49m\n\u001b[0;32m    120\u001b[0m \u001b[38;5;66;03m# consolidate inline data to top-level datasets\u001b[39;00m\n\u001b[0;32m    121\u001b[0m \u001b[38;5;28;01mif\u001b[39;00m context \u001b[38;5;129;01mis\u001b[39;00m \u001b[38;5;129;01mnot\u001b[39;00m \u001b[38;5;28;01mNone\u001b[39;00m \u001b[38;5;129;01mand\u001b[39;00m data_transformers\u001b[38;5;241m.\u001b[39mconsolidate_datasets:\n",
      "File \u001b[1;32md:\\Programacion\\buzz_data\\venv\\Lib\\site-packages\\toolz\\functoolz.py:628\u001b[0m, in \u001b[0;36mpipe\u001b[1;34m(data, *funcs)\u001b[0m\n\u001b[0;32m    608\u001b[0m \u001b[38;5;250m\u001b[39m\u001b[38;5;124;03m\"\"\" Pipe a value through a sequence of functions\u001b[39;00m\n\u001b[0;32m    609\u001b[0m \n\u001b[0;32m    610\u001b[0m \u001b[38;5;124;03mI.e. ``pipe(data, f, g, h)`` is equivalent to ``h(g(f(data)))``\u001b[39;00m\n\u001b[1;32m   (...)\u001b[0m\n\u001b[0;32m    625\u001b[0m \u001b[38;5;124;03m    thread_last\u001b[39;00m\n\u001b[0;32m    626\u001b[0m \u001b[38;5;124;03m\"\"\"\u001b[39;00m\n\u001b[0;32m    627\u001b[0m \u001b[38;5;28;01mfor\u001b[39;00m func \u001b[38;5;129;01min\u001b[39;00m funcs:\n\u001b[1;32m--> 628\u001b[0m     data \u001b[38;5;241m=\u001b[39m \u001b[43mfunc\u001b[49m\u001b[43m(\u001b[49m\u001b[43mdata\u001b[49m\u001b[43m)\u001b[49m\n\u001b[0;32m    629\u001b[0m \u001b[38;5;28;01mreturn\u001b[39;00m data\n",
      "File \u001b[1;32md:\\Programacion\\buzz_data\\venv\\Lib\\site-packages\\toolz\\functoolz.py:304\u001b[0m, in \u001b[0;36mcurry.__call__\u001b[1;34m(self, *args, **kwargs)\u001b[0m\n\u001b[0;32m    302\u001b[0m \u001b[38;5;28;01mdef\u001b[39;00m \u001b[38;5;21m__call__\u001b[39m(\u001b[38;5;28mself\u001b[39m, \u001b[38;5;241m*\u001b[39margs, \u001b[38;5;241m*\u001b[39m\u001b[38;5;241m*\u001b[39mkwargs):\n\u001b[0;32m    303\u001b[0m     \u001b[38;5;28;01mtry\u001b[39;00m:\n\u001b[1;32m--> 304\u001b[0m         \u001b[38;5;28;01mreturn\u001b[39;00m \u001b[38;5;28;43mself\u001b[39;49m\u001b[38;5;241;43m.\u001b[39;49m\u001b[43m_partial\u001b[49m\u001b[43m(\u001b[49m\u001b[38;5;241;43m*\u001b[39;49m\u001b[43margs\u001b[49m\u001b[43m,\u001b[49m\u001b[43m \u001b[49m\u001b[38;5;241;43m*\u001b[39;49m\u001b[38;5;241;43m*\u001b[39;49m\u001b[43mkwargs\u001b[49m\u001b[43m)\u001b[49m\n\u001b[0;32m    305\u001b[0m     \u001b[38;5;28;01mexcept\u001b[39;00m \u001b[38;5;167;01mTypeError\u001b[39;00m \u001b[38;5;28;01mas\u001b[39;00m exc:\n\u001b[0;32m    306\u001b[0m         \u001b[38;5;28;01mif\u001b[39;00m \u001b[38;5;28mself\u001b[39m\u001b[38;5;241m.\u001b[39m_should_curry(args, kwargs, exc):\n",
      "File \u001b[1;32md:\\Programacion\\buzz_data\\venv\\Lib\\site-packages\\altair\\vegalite\\data.py:23\u001b[0m, in \u001b[0;36mdefault_data_transformer\u001b[1;34m(data, max_rows)\u001b[0m\n\u001b[0;32m     19\u001b[0m \u001b[38;5;129m@curried\u001b[39m\u001b[38;5;241m.\u001b[39mcurry\n\u001b[0;32m     20\u001b[0m \u001b[38;5;28;01mdef\u001b[39;00m \u001b[38;5;21mdefault_data_transformer\u001b[39m(\n\u001b[0;32m     21\u001b[0m     data: DataType, max_rows: \u001b[38;5;28mint\u001b[39m \u001b[38;5;241m=\u001b[39m \u001b[38;5;241m5000\u001b[39m\n\u001b[0;32m     22\u001b[0m ) \u001b[38;5;241m-\u001b[39m\u001b[38;5;241m>\u001b[39m ToValuesReturnType:\n\u001b[1;32m---> 23\u001b[0m     \u001b[38;5;28;01mreturn\u001b[39;00m \u001b[43mcurried\u001b[49m\u001b[38;5;241;43m.\u001b[39;49m\u001b[43mpipe\u001b[49m\u001b[43m(\u001b[49m\u001b[43mdata\u001b[49m\u001b[43m,\u001b[49m\u001b[43m \u001b[49m\u001b[43mlimit_rows\u001b[49m\u001b[43m(\u001b[49m\u001b[43mmax_rows\u001b[49m\u001b[38;5;241;43m=\u001b[39;49m\u001b[43mmax_rows\u001b[49m\u001b[43m)\u001b[49m\u001b[43m,\u001b[49m\u001b[43m \u001b[49m\u001b[43mto_values\u001b[49m\u001b[43m)\u001b[49m\n",
      "File \u001b[1;32md:\\Programacion\\buzz_data\\venv\\Lib\\site-packages\\toolz\\functoolz.py:628\u001b[0m, in \u001b[0;36mpipe\u001b[1;34m(data, *funcs)\u001b[0m\n\u001b[0;32m    608\u001b[0m \u001b[38;5;250m\u001b[39m\u001b[38;5;124;03m\"\"\" Pipe a value through a sequence of functions\u001b[39;00m\n\u001b[0;32m    609\u001b[0m \n\u001b[0;32m    610\u001b[0m \u001b[38;5;124;03mI.e. ``pipe(data, f, g, h)`` is equivalent to ``h(g(f(data)))``\u001b[39;00m\n\u001b[1;32m   (...)\u001b[0m\n\u001b[0;32m    625\u001b[0m \u001b[38;5;124;03m    thread_last\u001b[39;00m\n\u001b[0;32m    626\u001b[0m \u001b[38;5;124;03m\"\"\"\u001b[39;00m\n\u001b[0;32m    627\u001b[0m \u001b[38;5;28;01mfor\u001b[39;00m func \u001b[38;5;129;01min\u001b[39;00m funcs:\n\u001b[1;32m--> 628\u001b[0m     data \u001b[38;5;241m=\u001b[39m \u001b[43mfunc\u001b[49m\u001b[43m(\u001b[49m\u001b[43mdata\u001b[49m\u001b[43m)\u001b[49m\n\u001b[0;32m    629\u001b[0m \u001b[38;5;28;01mreturn\u001b[39;00m data\n",
      "File \u001b[1;32md:\\Programacion\\buzz_data\\venv\\Lib\\site-packages\\toolz\\functoolz.py:304\u001b[0m, in \u001b[0;36mcurry.__call__\u001b[1;34m(self, *args, **kwargs)\u001b[0m\n\u001b[0;32m    302\u001b[0m \u001b[38;5;28;01mdef\u001b[39;00m \u001b[38;5;21m__call__\u001b[39m(\u001b[38;5;28mself\u001b[39m, \u001b[38;5;241m*\u001b[39margs, \u001b[38;5;241m*\u001b[39m\u001b[38;5;241m*\u001b[39mkwargs):\n\u001b[0;32m    303\u001b[0m     \u001b[38;5;28;01mtry\u001b[39;00m:\n\u001b[1;32m--> 304\u001b[0m         \u001b[38;5;28;01mreturn\u001b[39;00m \u001b[38;5;28;43mself\u001b[39;49m\u001b[38;5;241;43m.\u001b[39;49m\u001b[43m_partial\u001b[49m\u001b[43m(\u001b[49m\u001b[38;5;241;43m*\u001b[39;49m\u001b[43margs\u001b[49m\u001b[43m,\u001b[49m\u001b[43m \u001b[49m\u001b[38;5;241;43m*\u001b[39;49m\u001b[38;5;241;43m*\u001b[39;49m\u001b[43mkwargs\u001b[49m\u001b[43m)\u001b[49m\n\u001b[0;32m    305\u001b[0m     \u001b[38;5;28;01mexcept\u001b[39;00m \u001b[38;5;167;01mTypeError\u001b[39;00m \u001b[38;5;28;01mas\u001b[39;00m exc:\n\u001b[0;32m    306\u001b[0m         \u001b[38;5;28;01mif\u001b[39;00m \u001b[38;5;28mself\u001b[39m\u001b[38;5;241m.\u001b[39m_should_curry(args, kwargs, exc):\n",
      "File \u001b[1;32md:\\Programacion\\buzz_data\\venv\\Lib\\site-packages\\altair\\utils\\data.py:109\u001b[0m, in \u001b[0;36mlimit_rows\u001b[1;34m(data, max_rows)\u001b[0m\n\u001b[0;32m    107\u001b[0m         \u001b[38;5;28;01mreturn\u001b[39;00m data  \u001b[38;5;66;03m# type: ignore[return-value]\u001b[39;00m\n\u001b[0;32m    108\u001b[0m \u001b[38;5;28;01melif\u001b[39;00m \u001b[38;5;28mhasattr\u001b[39m(data, \u001b[38;5;124m\"\u001b[39m\u001b[38;5;124m__dataframe__\u001b[39m\u001b[38;5;124m\"\u001b[39m):\n\u001b[1;32m--> 109\u001b[0m     pi \u001b[38;5;241m=\u001b[39m \u001b[43mimport_pyarrow_interchange\u001b[49m\u001b[43m(\u001b[49m\u001b[43m)\u001b[49m\n\u001b[0;32m    110\u001b[0m     pa_table \u001b[38;5;241m=\u001b[39m pi\u001b[38;5;241m.\u001b[39mfrom_dataframe(data)\n\u001b[0;32m    111\u001b[0m     \u001b[38;5;28;01mif\u001b[39;00m max_rows \u001b[38;5;129;01mis\u001b[39;00m \u001b[38;5;129;01mnot\u001b[39;00m \u001b[38;5;28;01mNone\u001b[39;00m \u001b[38;5;129;01mand\u001b[39;00m pa_table\u001b[38;5;241m.\u001b[39mnum_rows \u001b[38;5;241m>\u001b[39m max_rows:\n",
      "File \u001b[1;32md:\\Programacion\\buzz_data\\venv\\Lib\\site-packages\\altair\\utils\\_importers.py:77\u001b[0m, in \u001b[0;36mimport_pyarrow_interchange\u001b[1;34m()\u001b[0m\n\u001b[0;32m     75\u001b[0m     \u001b[38;5;28;01mreturn\u001b[39;00m pi\n\u001b[0;32m     76\u001b[0m \u001b[38;5;28;01mexcept\u001b[39;00m \u001b[38;5;167;01mImportError\u001b[39;00m \u001b[38;5;28;01mas\u001b[39;00m err:\n\u001b[1;32m---> 77\u001b[0m     \u001b[38;5;28;01mraise\u001b[39;00m \u001b[38;5;167;01mImportError\u001b[39;00m(\n\u001b[0;32m     78\u001b[0m         \u001b[38;5;124mf\u001b[39m\u001b[38;5;124m\"\u001b[39m\u001b[38;5;124mUsage of the DataFrame Interchange Protocol requires\u001b[39m\u001b[38;5;130;01m\\n\u001b[39;00m\u001b[38;5;124m\"\u001b[39m\n\u001b[0;32m     79\u001b[0m         \u001b[38;5;124mf\u001b[39m\u001b[38;5;124m\"\u001b[39m\u001b[38;5;124mversion \u001b[39m\u001b[38;5;132;01m{\u001b[39;00mmin_version\u001b[38;5;132;01m}\u001b[39;00m\u001b[38;5;124m or greater of the pyarrow package. \u001b[39m\u001b[38;5;130;01m\\n\u001b[39;00m\u001b[38;5;124m\"\u001b[39m\n\u001b[0;32m     80\u001b[0m         \u001b[38;5;124mf\u001b[39m\u001b[38;5;124m\"\u001b[39m\u001b[38;5;124mThis can be installed with pip using:\u001b[39m\u001b[38;5;130;01m\\n\u001b[39;00m\u001b[38;5;124m\"\u001b[39m\n\u001b[0;32m     81\u001b[0m         \u001b[38;5;124mf\u001b[39m\u001b[38;5;124m'\u001b[39m\u001b[38;5;124m   pip install \u001b[39m\u001b[38;5;124m\"\u001b[39m\u001b[38;5;124mpyarrow>=\u001b[39m\u001b[38;5;132;01m{\u001b[39;00mmin_version\u001b[38;5;132;01m}\u001b[39;00m\u001b[38;5;124m\"\u001b[39m\u001b[38;5;130;01m\\n\u001b[39;00m\u001b[38;5;124m'\u001b[39m\n\u001b[0;32m     82\u001b[0m         \u001b[38;5;124m\"\u001b[39m\u001b[38;5;124mor conda:\u001b[39m\u001b[38;5;130;01m\\n\u001b[39;00m\u001b[38;5;124m\"\u001b[39m\n\u001b[0;32m     83\u001b[0m         \u001b[38;5;124mf\u001b[39m\u001b[38;5;124m'\u001b[39m\u001b[38;5;124m   conda install -c conda-forge \u001b[39m\u001b[38;5;124m\"\u001b[39m\u001b[38;5;124mpyarrow>=\u001b[39m\u001b[38;5;132;01m{\u001b[39;00mmin_version\u001b[38;5;132;01m}\u001b[39;00m\u001b[38;5;124m\"\u001b[39m\u001b[38;5;130;01m\\n\u001b[39;00m\u001b[38;5;130;01m\\n\u001b[39;00m\u001b[38;5;124m'\u001b[39m\n\u001b[0;32m     84\u001b[0m         \u001b[38;5;124mf\u001b[39m\u001b[38;5;124m\"\u001b[39m\u001b[38;5;124mImportError: \u001b[39m\u001b[38;5;132;01m{\u001b[39;00merr\u001b[38;5;241m.\u001b[39margs[\u001b[38;5;241m0\u001b[39m]\u001b[38;5;132;01m}\u001b[39;00m\u001b[38;5;124m\"\u001b[39m\n\u001b[0;32m     85\u001b[0m     ) \u001b[38;5;28;01mfrom\u001b[39;00m \u001b[38;5;21;01merr\u001b[39;00m\n",
      "\u001b[1;31mImportError\u001b[0m: Usage of the DataFrame Interchange Protocol requires\nversion 11.0.0 or greater of the pyarrow package. \nThis can be installed with pip using:\n   pip install \"pyarrow>=11.0.0\"\nor conda:\n   conda install -c conda-forge \"pyarrow>=11.0.0\"\n\nImportError: pyarrow"
     ]
    },
    {
     "data": {
      "text/plain": [
       "alt.Chart(...)"
      ]
     },
     "execution_count": 29,
     "metadata": {},
     "output_type": "execute_result"
    }
   ],
   "source": [
    "alt.Chart(col).mark_bar().encode(\n",
    "    x='col',\n",
    "    y='average(col)'\n",
    ")\n"
   ]
  }
 ],
 "metadata": {
  "kernelspec": {
   "display_name": "venv",
   "language": "python",
   "name": "python3"
  },
  "language_info": {
   "codemirror_mode": {
    "name": "ipython",
    "version": 3
   },
   "file_extension": ".py",
   "mimetype": "text/x-python",
   "name": "python",
   "nbconvert_exporter": "python",
   "pygments_lexer": "ipython3",
   "version": "3.11.0"
  }
 },
 "nbformat": 4,
 "nbformat_minor": 2
}
