{
 "cells": [
  {
   "cell_type": "markdown",
   "metadata": {},
   "source": [
    "Machine Learning project to create a population prediction system \n"
   ]
  },
  {
   "cell_type": "markdown",
   "metadata": {},
   "source": [
    "# Buzz_Data\n",
    "Bees are some of the most prolific pollinators, and the world needs them. However, international honey bee populations have been decreasing at alarming rates. Climate change, parasites, and diseases have all contributed to the loss of bees.\n",
    "\n",
    "In this project I will follow the **CRISP-DM model**\n",
    "\n",
    "The CRoss Industry Standard Process for Data Mining (CRISP-DM) is a process model that serves as the base for a data science process. It has six sequential phases:\n",
    "\n",
    "- Business understanding – What does the business need?\n",
    "- Data understanding – What data do we have / need? Is it clean?\n",
    "- Data preparation – How do we organize the data for modeling?\n",
    "- Modeling – What modeling techniques should we apply?\n",
    "- Evaluation – Which model best meets the business objectives?\n",
    "- Deployment – How do stakeholders access the results?"
   ]
  },
  {
   "cell_type": "markdown",
   "metadata": {},
   "source": [
    "## Business understanding – What does the business need?\n",
    "\n",
    "The USDA need data scientist for a machine Learning project to create a bee population prediction system.\n",
    "\n",
    "### Content\n",
    "The data consists of data from honey bees colonies in the United States from 2015 to 2022 is available. These data were collected by the USDA and curated into a manageable dataset for EDA and predictions.\n",
    "\n",
    "### Feature Description:\n",
    "\n",
    "state: state within the USA. Note, other is a collection of states for privacy reasons. And the United States state is the average across all states.\n",
    "\n",
    "num_colonies: number of honey bee colonies\n",
    "\n",
    "max_colonies: max number of honey bee colonies for that quarter\n",
    "\n",
    "lost_colonies: number of colonies that were lost during that quarter\n",
    "\n",
    "percent_lost: percentage of honey bee colonies lost during that quarter\n",
    "\n",
    "renovated_colonies: colonies that were 'requeened' or received new bees\n",
    "\n",
    "percent_renovated: percentage of honey bee colonies that were renovated\n",
    "\n",
    "quarter: Q1 is Jan to March, Q2 is April to June, Q3 is July to September, and Q4 is October to December\n",
    "\n",
    "year: year between 2015 and 2022\n",
    "\n",
    "varroa_mites: Percentage of colonies affected by a species of mite that affects honey bee populations\n",
    "\n",
    "other_pests_and_parasites: Percentage of colonies affected by a collection of other harmful critters\n",
    "\n",
    "diseases: Percentage of colonies affected by certain diseases\n",
    "\n",
    "pesticides: Percentage of colonies affected by the use of certain pesticides\n",
    "\n",
    "other: Percentage of colonies affected by an unlisted cause\n",
    "\n",
    "unknown: Percentage of colonies affected by an unknown cause"
   ]
  },
  {
   "cell_type": "code",
   "execution_count": 13,
   "metadata": {},
   "outputs": [],
   "source": [
    "import polars as pl \n",
    "import altair as alt"
   ]
  },
  {
   "cell_type": "code",
   "execution_count": 12,
   "metadata": {},
   "outputs": [
    {
     "data": {
      "text/html": [
       "<div><style>\n",
       ".dataframe > thead > tr,\n",
       ".dataframe > tbody > tr {\n",
       "  text-align: right;\n",
       "  white-space: pre-wrap;\n",
       "}\n",
       "</style>\n",
       "<small>shape: (10, 17)</small><table border=\"1\" class=\"dataframe\"><thead><tr><th>state</th><th>state_code</th><th>num_colonies</th><th>max_colonies</th><th>lost_colonies</th><th>percent_lost</th><th>added_colonies</th><th>renovated_colonies</th><th>percent_renovated</th><th>quarter</th><th>year</th><th>varroa_mites</th><th>other_pests_and_parasites</th><th>diseases</th><th>pesticides</th><th>other</th><th>unknown</th></tr><tr><td>str</td><td>str</td><td>i64</td><td>i64</td><td>i64</td><td>i64</td><td>i64</td><td>i64</td><td>i64</td><td>i64</td><td>i64</td><td>f64</td><td>f64</td><td>f64</td><td>f64</td><td>f64</td><td>f64</td></tr></thead><tbody><tr><td>&quot;Washington&quot;</td><td>&quot;WA&quot;</td><td>84000</td><td>89000</td><td>7500</td><td>8</td><td>540</td><td>220</td><td>0</td><td>4</td><td>2022</td><td>34.0</td><td>6.4</td><td>0.0</td><td>0.0</td><td>4.2</td><td>8.2</td></tr><tr><td>&quot;Wyoming&quot;</td><td>&quot;WY&quot;</td><td>19500</td><td>21000</td><td>3200</td><td>15</td><td>640</td><td>0</td><td>0</td><td>4</td><td>2022</td><td>22.9</td><td>5.9</td><td>4.2</td><td>0.0</td><td>0.0</td><td>7.4</td></tr><tr><td>&quot;Wisconsin&quot;</td><td>&quot;WI&quot;</td><td>66000</td><td>66000</td><td>7000</td><td>11</td><td>1500</td><td>4300</td><td>7</td><td>3</td><td>2021</td><td>56.0</td><td>36.8</td><td>20.3</td><td>31.2</td><td>15.3</td><td>8.0</td></tr><tr><td>&quot;South Carolina…</td><td>&quot;SC&quot;</td><td>18000</td><td>19000</td><td>1700</td><td>9</td><td>4200</td><td>4900</td><td>26</td><td>2</td><td>2021</td><td>48.4</td><td>32.7</td><td>2.1</td><td>0.0</td><td>9.1</td><td>5.0</td></tr><tr><td>&quot;Massachusetts&quot;</td><td>&quot;MA&quot;</td><td>4200</td><td>8500</td><td>300</td><td>4</td><td>1100</td><td>440</td><td>5</td><td>2</td><td>2016</td><td>40.5</td><td>10.6</td><td>0.3</td><td>10.6</td><td>2.3</td><td>11.9</td></tr><tr><td>&quot;Massachusetts&quot;</td><td>&quot;MA&quot;</td><td>3800</td><td>3800</td><td>470</td><td>12</td><td>1100</td><td>100</td><td>3</td><td>1</td><td>2020</td><td>13.9</td><td>0.5</td><td>1.8</td><td>0.0</td><td>4.5</td><td>2.2</td></tr><tr><td>&quot;Idaho&quot;</td><td>&quot;ID&quot;</td><td>81000</td><td>88000</td><td>3700</td><td>4</td><td>2600</td><td>8000</td><td>9</td><td>1</td><td>2015</td><td>39.8</td><td>6.7</td><td>12.5</td><td>4.8</td><td>8.9</td><td>4.9</td></tr><tr><td>&quot;Arizona&quot;</td><td>&quot;AZ&quot;</td><td>33000</td><td>33000</td><td>5500</td><td>17</td><td>19500</td><td>7000</td><td>21</td><td>2</td><td>2015</td><td>8.4</td><td>32.1</td><td>0.5</td><td>20.1</td><td>28.2</td><td>0.3</td></tr><tr><td>&quot;Kentucky&quot;</td><td>&quot;KY&quot;</td><td>11500</td><td>11500</td><td>1100</td><td>10</td><td>380</td><td>520</td><td>5</td><td>4</td><td>2020</td><td>23.8</td><td>8.8</td><td>0.0</td><td>0.0</td><td>8.2</td><td>9.0</td></tr><tr><td>&quot;South Carolina…</td><td>&quot;SC&quot;</td><td>12500</td><td>15000</td><td>2000</td><td>13</td><td>1300</td><td>750</td><td>5</td><td>4</td><td>2017</td><td>31.6</td><td>19.4</td><td>14.6</td><td>0.2</td><td>1.9</td><td>1.9</td></tr></tbody></table></div>"
      ],
      "text/plain": [
       "shape: (10, 17)\n",
       "┌─────────────┬────────────┬────────────┬────────────┬───┬──────────┬────────────┬───────┬─────────┐\n",
       "│ state       ┆ state_code ┆ num_coloni ┆ max_coloni ┆ … ┆ diseases ┆ pesticides ┆ other ┆ unknown │\n",
       "│ ---         ┆ ---        ┆ es         ┆ es         ┆   ┆ ---      ┆ ---        ┆ ---   ┆ ---     │\n",
       "│ str         ┆ str        ┆ ---        ┆ ---        ┆   ┆ f64      ┆ f64        ┆ f64   ┆ f64     │\n",
       "│             ┆            ┆ i64        ┆ i64        ┆   ┆          ┆            ┆       ┆         │\n",
       "╞═════════════╪════════════╪════════════╪════════════╪═══╪══════════╪════════════╪═══════╪═════════╡\n",
       "│ Washington  ┆ WA         ┆ 84000      ┆ 89000      ┆ … ┆ 0.0      ┆ 0.0        ┆ 4.2   ┆ 8.2     │\n",
       "│ Wyoming     ┆ WY         ┆ 19500      ┆ 21000      ┆ … ┆ 4.2      ┆ 0.0        ┆ 0.0   ┆ 7.4     │\n",
       "│ Wisconsin   ┆ WI         ┆ 66000      ┆ 66000      ┆ … ┆ 20.3     ┆ 31.2       ┆ 15.3  ┆ 8.0     │\n",
       "│ South       ┆ SC         ┆ 18000      ┆ 19000      ┆ … ┆ 2.1      ┆ 0.0        ┆ 9.1   ┆ 5.0     │\n",
       "│ Carolina    ┆            ┆            ┆            ┆   ┆          ┆            ┆       ┆         │\n",
       "│ …           ┆ …          ┆ …          ┆ …          ┆ … ┆ …        ┆ …          ┆ …     ┆ …       │\n",
       "│ Idaho       ┆ ID         ┆ 81000      ┆ 88000      ┆ … ┆ 12.5     ┆ 4.8        ┆ 8.9   ┆ 4.9     │\n",
       "│ Arizona     ┆ AZ         ┆ 33000      ┆ 33000      ┆ … ┆ 0.5      ┆ 20.1       ┆ 28.2  ┆ 0.3     │\n",
       "│ Kentucky    ┆ KY         ┆ 11500      ┆ 11500      ┆ … ┆ 0.0      ┆ 0.0        ┆ 8.2   ┆ 9.0     │\n",
       "│ South       ┆ SC         ┆ 12500      ┆ 15000      ┆ … ┆ 14.6     ┆ 0.2        ┆ 1.9   ┆ 1.9     │\n",
       "│ Carolina    ┆            ┆            ┆            ┆   ┆          ┆            ┆       ┆         │\n",
       "└─────────────┴────────────┴────────────┴────────────┴───┴──────────┴────────────┴───────┴─────────┘"
      ]
     },
     "execution_count": 12,
     "metadata": {},
     "output_type": "execute_result"
    }
   ],
   "source": [
    "bd = pl.read_csv('D:/Programacion/buzz_data/input/save_the_bees.csv', )\n",
    "bd.sample(10)"
   ]
  },
  {
   "cell_type": "code",
   "execution_count": 16,
   "metadata": {},
   "outputs": [
    {
     "name": "stdout",
     "output_type": "stream",
     "text": [
      "Rows: 1453\n",
      "Columns: 17\n",
      "$ state                     <str> 'Alabama', 'Arizona', 'Arkansas', 'California', 'Colorado', 'Connecticut', 'Florida', 'Georgia', 'Hawaii', 'Idaho'\n",
      "$ state_code                <str> 'AL', 'AZ', 'AR', 'CA', 'CO', 'CT', 'FL', 'GA', 'HI', 'ID'\n",
      "$ num_colonies              <i64> 7000, 35000, 13000, 1440000, 3500, 3900, 305000, 104000, 10500, 81000\n",
      "$ max_colonies              <i64> 7000, 35000, 14000, 1690000, 12500, 3900, 315000, 105000, 10500, 88000\n",
      "$ lost_colonies             <i64> 1800, 4600, 1500, 255000, 1500, 870, 42000, 14500, 380, 3700\n",
      "$ percent_lost              <i64> 26, 13, 11, 15, 12, 22, 13, 14, 4, 4\n",
      "$ added_colonies            <i64> 2800, 3400, 1200, 250000, 200, 290, 54000, 47000, 3400, 2600\n",
      "$ renovated_colonies        <i64> 250, 2100, 90, 124000, 140, 0, 25000, 9500, 760, 8000\n",
      "$ percent_renovated         <i64> 4, 6, 1, 7, 1, 0, 8, 9, 7, 9\n",
      "$ quarter                   <i64> 1, 1, 1, 1, 1, 1, 1, 1, 1, 1\n",
      "$ year                      <i64> 2015, 2015, 2015, 2015, 2015, 2015, 2015, 2015, 2015, 2015\n",
      "$ varroa_mites              <f64> 10.0, 26.9, 17.6, 24.7, 14.6, 2.5, 22.3, 6.2, 38.8, 39.8\n",
      "$ other_pests_and_parasites <f64> 5.4, 20.5, 11.4, 7.2, 0.9, 1.4, 13.5, 4.9, 37.7, 6.7\n",
      "$ diseases                  <f64> 0.0, 0.1, 1.5, 3.0, 1.8, 0.0, 0.8, 3.3, 1.6, 12.5\n",
      "$ pesticides                <f64> 2.2, 0.0, 3.4, 7.5, 0.6, 0.0, 8.9, 2.6, 0.0, 4.8\n",
      "$ other                     <f64> 9.1, 1.8, 1.0, 6.5, 2.6, 21.2, 5.1, 4.8, 2.0, 8.9\n",
      "$ unknown                   <f64> 9.4, 3.1, 1.0, 2.8, 5.9, 2.4, 4.4, 10.5, 0.0, 4.9\n",
      "\n"
     ]
    }
   ],
   "source": [
    "bd.glimpse()"
   ]
  },
  {
   "cell_type": "code",
   "execution_count": 10,
   "metadata": {},
   "outputs": [
    {
     "data": {
      "text/html": [
       "<div><style>\n",
       ".dataframe > thead > tr,\n",
       ".dataframe > tbody > tr {\n",
       "  text-align: right;\n",
       "  white-space: pre-wrap;\n",
       "}\n",
       "</style>\n",
       "<small>shape: (9, 18)</small><table border=\"1\" class=\"dataframe\"><thead><tr><th>describe</th><th>state</th><th>state_code</th><th>num_colonies</th><th>max_colonies</th><th>lost_colonies</th><th>percent_lost</th><th>added_colonies</th><th>renovated_colonies</th><th>percent_renovated</th><th>quarter</th><th>year</th><th>varroa_mites</th><th>other_pests_and_parasites</th><th>diseases</th><th>pesticides</th><th>other</th><th>unknown</th></tr><tr><td>str</td><td>str</td><td>str</td><td>f64</td><td>f64</td><td>f64</td><td>f64</td><td>f64</td><td>f64</td><td>f64</td><td>f64</td><td>f64</td><td>f64</td><td>f64</td><td>f64</td><td>f64</td><td>f64</td><td>f64</td></tr></thead><tbody><tr><td>&quot;count&quot;</td><td>&quot;1453&quot;</td><td>&quot;1453&quot;</td><td>1453.0</td><td>1453.0</td><td>1453.0</td><td>1453.0</td><td>1453.0</td><td>1453.0</td><td>1453.0</td><td>1453.0</td><td>1453.0</td><td>1453.0</td><td>1453.0</td><td>1453.0</td><td>1453.0</td><td>1453.0</td><td>1453.0</td></tr><tr><td>&quot;null_count&quot;</td><td>&quot;0&quot;</td><td>&quot;0&quot;</td><td>0.0</td><td>0.0</td><td>0.0</td><td>0.0</td><td>0.0</td><td>0.0</td><td>0.0</td><td>0.0</td><td>0.0</td><td>0.0</td><td>0.0</td><td>0.0</td><td>0.0</td><td>0.0</td><td>0.0</td></tr><tr><td>&quot;mean&quot;</td><td>null</td><td>null</td><td>124469.979353</td><td>155948.671714</td><td>16759.710943</td><td>11.266345</td><td>15744.900206</td><td>13520.302822</td><td>7.11287</td><td>2.516173</td><td>2018.474191</td><td>30.186098</td><td>10.937509</td><td>3.406676</td><td>6.185272</td><td>6.083345</td><td>3.994907</td></tr><tr><td>&quot;std&quot;</td><td>null</td><td>null</td><td>438499.655483</td><td>550593.1281</td><td>60681.042329</td><td>7.359984</td><td>63548.43909</td><td>57201.973644</td><td>9.025198</td><td>1.132682</td><td>2.322824</td><td>18.861293</td><td>13.035092</td><td>6.472063</td><td>8.959392</td><td>6.488208</td><td>4.939563</td></tr><tr><td>&quot;min&quot;</td><td>&quot;Alabama&quot;</td><td>&quot;AL&quot;</td><td>1300.0</td><td>1300.0</td><td>0.0</td><td>0.0</td><td>0.0</td><td>0.0</td><td>0.0</td><td>1.0</td><td>2015.0</td><td>0.0</td><td>0.0</td><td>0.0</td><td>0.0</td><td>0.0</td><td>0.0</td></tr><tr><td>&quot;25%&quot;</td><td>null</td><td>null</td><td>8000.0</td><td>9500.0</td><td>950.0</td><td>6.0</td><td>380.0</td><td>150.0</td><td>1.0</td><td>1.0</td><td>2016.0</td><td>15.6</td><td>1.9</td><td>0.1</td><td>0.4</td><td>1.8</td><td>0.8</td></tr><tr><td>&quot;50%&quot;</td><td>null</td><td>null</td><td>18500.0</td><td>23000.0</td><td>2200.0</td><td>10.0</td><td>1500.0</td><td>800.0</td><td>4.0</td><td>3.0</td><td>2018.0</td><td>27.2</td><td>7.0</td><td>1.1</td><td>2.6</td><td>4.1</td><td>2.4</td></tr><tr><td>&quot;75%&quot;</td><td>null</td><td>null</td><td>59000.0</td><td>79000.0</td><td>7000.0</td><td>14.0</td><td>6000.0</td><td>3700.0</td><td>10.0</td><td>4.0</td><td>2021.0</td><td>42.2</td><td>15.1</td><td>4.2</td><td>8.5</td><td>8.2</td><td>5.4</td></tr><tr><td>&quot;max&quot;</td><td>&quot;Wyoming&quot;</td><td>&quot;WY&quot;</td><td>3.18118e6</td><td>4.17444e6</td><td>502350.0</td><td>65.0</td><td>736920.0</td><td>762550.0</td><td>77.0</td><td>4.0</td><td>2022.0</td><td>98.8</td><td>91.9</td><td>87.4</td><td>73.5</td><td>61.4</td><td>46.2</td></tr></tbody></table></div>"
      ],
      "text/plain": [
       "shape: (9, 18)\n",
       "┌────────────┬─────────┬────────────┬────────────┬───┬──────────┬────────────┬──────────┬──────────┐\n",
       "│ describe   ┆ state   ┆ state_code ┆ num_coloni ┆ … ┆ diseases ┆ pesticides ┆ other    ┆ unknown  │\n",
       "│ ---        ┆ ---     ┆ ---        ┆ es         ┆   ┆ ---      ┆ ---        ┆ ---      ┆ ---      │\n",
       "│ str        ┆ str     ┆ str        ┆ ---        ┆   ┆ f64      ┆ f64        ┆ f64      ┆ f64      │\n",
       "│            ┆         ┆            ┆ f64        ┆   ┆          ┆            ┆          ┆          │\n",
       "╞════════════╪═════════╪════════════╪════════════╪═══╪══════════╪════════════╪══════════╪══════════╡\n",
       "│ count      ┆ 1453    ┆ 1453       ┆ 1453.0     ┆ … ┆ 1453.0   ┆ 1453.0     ┆ 1453.0   ┆ 1453.0   │\n",
       "│ null_count ┆ 0       ┆ 0          ┆ 0.0        ┆ … ┆ 0.0      ┆ 0.0        ┆ 0.0      ┆ 0.0      │\n",
       "│ mean       ┆ null    ┆ null       ┆ 124469.979 ┆ … ┆ 3.406676 ┆ 6.185272   ┆ 6.083345 ┆ 3.994907 │\n",
       "│            ┆         ┆            ┆ 353        ┆   ┆          ┆            ┆          ┆          │\n",
       "│ std        ┆ null    ┆ null       ┆ 438499.655 ┆ … ┆ 6.472063 ┆ 8.959392   ┆ 6.488208 ┆ 4.939563 │\n",
       "│            ┆         ┆            ┆ 483        ┆   ┆          ┆            ┆          ┆          │\n",
       "│ min        ┆ Alabama ┆ AL         ┆ 1300.0     ┆ … ┆ 0.0      ┆ 0.0        ┆ 0.0      ┆ 0.0      │\n",
       "│ 25%        ┆ null    ┆ null       ┆ 8000.0     ┆ … ┆ 0.1      ┆ 0.4        ┆ 1.8      ┆ 0.8      │\n",
       "│ 50%        ┆ null    ┆ null       ┆ 18500.0    ┆ … ┆ 1.1      ┆ 2.6        ┆ 4.1      ┆ 2.4      │\n",
       "│ 75%        ┆ null    ┆ null       ┆ 59000.0    ┆ … ┆ 4.2      ┆ 8.5        ┆ 8.2      ┆ 5.4      │\n",
       "│ max        ┆ Wyoming ┆ WY         ┆ 3.18118e6  ┆ … ┆ 87.4     ┆ 73.5       ┆ 61.4     ┆ 46.2     │\n",
       "└────────────┴─────────┴────────────┴────────────┴───┴──────────┴────────────┴──────────┴──────────┘"
      ]
     },
     "execution_count": 10,
     "metadata": {},
     "output_type": "execute_result"
    }
   ],
   "source": [
    "bd.describe()"
   ]
  },
  {
   "cell_type": "code",
   "execution_count": null,
   "metadata": {},
   "outputs": [],
   "source": []
  }
 ],
 "metadata": {
  "kernelspec": {
   "display_name": "venv",
   "language": "python",
   "name": "python3"
  },
  "language_info": {
   "codemirror_mode": {
    "name": "ipython",
    "version": 3
   },
   "file_extension": ".py",
   "mimetype": "text/x-python",
   "name": "python",
   "nbconvert_exporter": "python",
   "pygments_lexer": "ipython3",
   "version": "3.11.0"
  }
 },
 "nbformat": 4,
 "nbformat_minor": 2
}
