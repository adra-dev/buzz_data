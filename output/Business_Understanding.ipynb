{
 "cells": [
  {
   "cell_type": "markdown",
   "metadata": {},
   "source": [
    "## Business understanding – What does the business need?\n",
    "\n",
    "The USDA need data scientist for a machine Learning project to create a bee population prediction system.\n",
    "\n",
    "### Content\n",
    "The data consists of data from honey bees colonies in the United States from 2015 to 2022 is available. These data were collected by the USDA and curated into a manageable dataset for EDA and predictions.\n",
    "\n",
    "### Feature Description:\n",
    "\n",
    "state: state within the USA. Note, other is a collection of states for privacy reasons. And the United States state is the average across all states.\n",
    "\n",
    "num_colonies: number of honey bee colonies\n",
    "\n",
    "max_colonies: max number of honey bee colonies for that quarter\n",
    "\n",
    "lost_colonies: number of colonies that were lost during that quarter\n",
    "\n",
    "percent_lost: percentage of honey bee colonies lost during that quarter\n",
    "\n",
    "renovated_colonies: colonies that were 'requeened' or received new bees\n",
    "\n",
    "percent_renovated: percentage of honey bee colonies that were renovated\n",
    "\n",
    "quarter: Q1 is Jan to March, Q2 is April to June, Q3 is July to September, and Q4 is October to December\n",
    "\n",
    "year: year between 2015 and 2022\n",
    "\n",
    "varroa_mites: Percentage of colonies affected by a species of mite that affects honey bee populations\n",
    "\n",
    "other_pests_and_parasites: Percentage of colonies affected by a collection of other harmful critters\n",
    "\n",
    "diseases: Percentage of colonies affected by certain diseases\n",
    "\n",
    "pesticides: Percentage of colonies affected by the use of certain pesticides\n",
    "\n",
    "other: Percentage of colonies affected by an unlisted cause\n",
    "\n",
    "unknown: Percentage of colonies affected by an unknown cause"
   ]
  }
 ],
 "metadata": {
  "language_info": {
   "name": "python"
  }
 },
 "nbformat": 4,
 "nbformat_minor": 2
}
